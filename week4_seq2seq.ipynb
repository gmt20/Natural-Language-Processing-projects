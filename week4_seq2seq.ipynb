{
  "nbformat": 4,
  "nbformat_minor": 0,
  "metadata": {
    "colab": {
      "name": "Copy of week4-seq2seq.ipynb",
      "provenance": [],
      "collapsed_sections": []
    },
    "language_info": {
      "codemirror_mode": {
        "name": "ipython",
        "version": 3
      },
      "file_extension": ".py",
      "mimetype": "text/x-python",
      "name": "python",
      "nbconvert_exporter": "python",
      "pygments_lexer": "ipython3",
      "version": "3.4.3"
    },
    "kernelspec": {
      "display_name": "Python 3",
      "language": "python",
      "name": "python3"
    }
  },
  "cells": [
    {
      "cell_type": "markdown",
      "metadata": {
        "id": "4YBG8T5UnYSR",
        "colab_type": "text"
      },
      "source": [
        "# Learn to calculate with seq2seq model\n",
        "\n",
        "In this assignment, you will learn how to use neural networks to solve sequence-to-sequence prediction tasks. Seq2Seq models are very popular these days because they achieve great results in Machine Translation, Text Summarization, Conversational Modeling and more.\n",
        "\n",
        "Using sequence-to-sequence modeling you are going to build a calculator for evaluating arithmetic expressions, by taking an equation as an input to the neural network and producing an answer as it's output.\n",
        "\n",
        "The resulting solution for this problem will be based on state-of-the-art approaches for sequence-to-sequence learning and you should be able to easily adapt it to solve other tasks. However, if you want to train your own machine translation system or intellectual chat bot, it would be useful to have access to compute resources like GPU, and be patient, because training of such systems is usually time consuming. \n",
        "\n",
        "### Libraries\n",
        "\n",
        "For this task you will need the following libraries:\n",
        " - [TensorFlow](https://www.tensorflow.org) — an open-source software library for Machine Intelligence.\n",
        " - [scikit-learn](http://scikit-learn.org/stable/index.html) — a tool for data mining and data analysis.\n",
        " \n",
        "If you have never worked with TensorFlow, you will probably want to read some tutorials during your work on this assignment, e.g. [Neural Machine Translation](https://www.tensorflow.org/tutorials/seq2seq) tutorial deals with very similar task and can explain some concepts to you. "
      ]
    },
    {
      "cell_type": "markdown",
      "metadata": {
        "id": "ZmlfTahonYSl",
        "colab_type": "text"
      },
      "source": [
        "### Data\n",
        "\n",
        "One benefit of this task is that you don't need to download any data — you will generate it on your own! We will use two operators (addition and subtraction) and work with positive integer numbers in some range. Here are examples of correct inputs and outputs:\n",
        "\n",
        "    Input: '1+2'\n",
        "    Output: '3'\n",
        "    \n",
        "    Input: '0-99'\n",
        "    Output: '-99'\n",
        "\n",
        "*Note, that there are no spaces between operators and operands.*\n",
        "\n",
        "\n",
        "Now you need to implement the function *generate_equations*, which will be used to generate the data."
      ]
    },
    {
      "cell_type": "code",
      "metadata": {
        "id": "o00tSM0VoAu9",
        "colab_type": "code",
        "outputId": "0d8a0800-43b1-40ea-bbbe-339b74bf6a2d",
        "colab": {
          "base_uri": "https://localhost:8080/",
          "height": 208
        }
      },
      "source": [
        "! wget https://raw.githubusercontent.com/hse-aml/natural-language-processing/master/setup_google_colab.py -O setup_google_colab.py\n",
        "import setup_google_colab\n",
        "# please, uncomment the week you're working on\n",
        "#setup_google_colab.setup_week1()  \n",
        "#setup_google_colab.setup_week2()\n",
        "#setup_google_colab.setup_week3()\n",
        "setup_google_colab.setup_week4()\n",
        "# setup_google_colab.setup_project()\n",
        "# setup_google_colab.setup_honor()"
      ],
      "execution_count": 0,
      "outputs": [
        {
          "output_type": "stream",
          "text": [
            "--2019-06-22 17:53:55--  https://raw.githubusercontent.com/hse-aml/natural-language-processing/master/setup_google_colab.py\n",
            "Resolving raw.githubusercontent.com (raw.githubusercontent.com)... 151.101.0.133, 151.101.64.133, 151.101.128.133, ...\n",
            "Connecting to raw.githubusercontent.com (raw.githubusercontent.com)|151.101.0.133|:443... connected.\n",
            "HTTP request sent, awaiting response... 200 OK\n",
            "Length: 2330 (2.3K) [text/plain]\n",
            "Saving to: ‘setup_google_colab.py’\n",
            "\n",
            "setup_google_colab. 100%[===================>]   2.28K  --.-KB/s    in 0s      \n",
            "\n",
            "2019-06-22 17:54:00 (31.6 MB/s) - ‘setup_google_colab.py’ saved [2330/2330]\n",
            "\n"
          ],
          "name": "stdout"
        }
      ]
    },
    {
      "cell_type": "code",
      "metadata": {
        "id": "OAtQYqTgnYS1",
        "colab_type": "code",
        "colab": {}
      },
      "source": [
        "import random"
      ],
      "execution_count": 0,
      "outputs": []
    },
    {
      "cell_type": "code",
      "metadata": {
        "id": "5_bKdeaJnYTX",
        "colab_type": "code",
        "colab": {}
      },
      "source": [
        "def generate_equations(allowed_operators, dataset_size, min_value, max_value):\n",
        "    \"\"\"Generates pairs of equations and solutions to them.\n",
        "    \n",
        "       Each equation has a form of two integers with an operator in between.\n",
        "       Each solution is an integer with the result of the operaion.\n",
        "    \n",
        "        allowed_operators: list of strings, allowed operators.\n",
        "        dataset_size: an integer, number of equations to be generated.\n",
        "        min_value: an integer, min value of each operand.\n",
        "        max_value: an integer, max value of each operand.\n",
        "\n",
        "        result: a list of tuples of strings (equation, solution).\n",
        "    \"\"\"\n",
        "    sample = []\n",
        "    #import operator\n",
        "    #ops = { \"+\": operator.add, \"-\": operator.sub , \"/\":operator.truediv,\"*\":operator.mul} # etc.\n",
        "\n",
        "    for _ in range(dataset_size):\n",
        "        first = random.randint(min_value, max_value)\n",
        "        second = random.randint(min_value, max_value)\n",
        "        operand = random.choice(allowed_operators)\n",
        "        equation = str(first)+operand+str(second)\n",
        "        solution = eval(equation)\n",
        "        sample.append((equation, str(solution)))\n",
        "       \n",
        "      \n",
        "        \n",
        "    return sample"
      ],
      "execution_count": 0,
      "outputs": []
    },
    {
      "cell_type": "markdown",
      "metadata": {
        "id": "YpwUTRI6nYTz",
        "colab_type": "text"
      },
      "source": [
        "To check the correctness of your implementation, use *test_generate_equations* function:"
      ]
    },
    {
      "cell_type": "code",
      "metadata": {
        "id": "qw31Vzu3nYT8",
        "colab_type": "code",
        "colab": {}
      },
      "source": [
        "def test_generate_equations():\n",
        "    allowed_operators = ['+', '-']\n",
        "    dataset_size = 10\n",
        "    for (input_, output_) in generate_equations(allowed_operators, dataset_size, 0, 100):\n",
        "        if not (type(input_) is str and type(output_) is str):\n",
        "            return \"Both parts should be strings.\"\n",
        "        if eval(input_) != int(output_):\n",
        "            return \"The (equation: {!r}, solution: {!r}) pair is incorrect.\".format(input_, output_)\n",
        "    return \"Tests passed.\""
      ],
      "execution_count": 0,
      "outputs": []
    },
    {
      "cell_type": "code",
      "metadata": {
        "id": "4-OwrOlcnYUU",
        "colab_type": "code",
        "outputId": "7be08ee1-7379-4ac1-a675-4fe133b75c32",
        "colab": {
          "base_uri": "https://localhost:8080/",
          "height": 34
        }
      },
      "source": [
        "print(test_generate_equations())"
      ],
      "execution_count": 0,
      "outputs": [
        {
          "output_type": "stream",
          "text": [
            "Tests passed.\n"
          ],
          "name": "stdout"
        }
      ]
    },
    {
      "cell_type": "markdown",
      "metadata": {
        "id": "mL6e8wScnYUs",
        "colab_type": "text"
      },
      "source": [
        "Finally, we are ready to generate the train and test data for the neural network:"
      ]
    },
    {
      "cell_type": "code",
      "metadata": {
        "id": "bNy6LaA1nYU0",
        "colab_type": "code",
        "colab": {}
      },
      "source": [
        "from sklearn.model_selection import train_test_split"
      ],
      "execution_count": 0,
      "outputs": []
    },
    {
      "cell_type": "code",
      "metadata": {
        "id": "x-60_NN8nYVI",
        "colab_type": "code",
        "colab": {}
      },
      "source": [
        "allowed_operators = ['+', '-']\n",
        "dataset_size = 100000\n",
        "data = generate_equations(allowed_operators, dataset_size, min_value=0, max_value=9999)\n",
        "\n",
        "train_set, test_set = train_test_split(data, test_size=0.2, random_state=42)"
      ],
      "execution_count": 0,
      "outputs": []
    },
    {
      "cell_type": "markdown",
      "metadata": {
        "id": "vmyGCcI_nYVl",
        "colab_type": "text"
      },
      "source": [
        "## Prepare data for the neural network\n",
        "\n",
        "The next stage of data preparation is creating mappings of the characters to their indices in some vocabulary. Since in our task we already know which symbols will appear in the inputs and outputs, generating the vocabulary is a simple step.\n",
        "\n",
        "#### How to create dictionaries for other task\n",
        "\n",
        "First of all, you need to understand what is the basic unit of the sequence in your task. In our case, we operate on symbols and the basic unit is a symbol. The number of symbols is small, so we don't need to think about filtering/normalization steps. However, in other tasks, the basic unit is often a word, and in this case the mapping would be *word $\\to$ integer*. The number of words might be huge, so it would be reasonable to filter them, for example, by frequency and leave only the frequent ones. Other strategies that your should consider are: data normalization (lowercasing, tokenization, how to consider punctuation marks), separate vocabulary for input and for output (e.g. for machine translation), some specifics of the task."
      ]
    },
    {
      "cell_type": "code",
      "metadata": {
        "id": "vYZ0ifwKnYVx",
        "colab_type": "code",
        "colab": {}
      },
      "source": [
        "word2id = {symbol:i for i, symbol in enumerate('#^$+-1234567890')}\n",
        "id2word = {i:symbol for symbol, i in word2id.items()}"
      ],
      "execution_count": 0,
      "outputs": []
    },
    {
      "cell_type": "markdown",
      "metadata": {
        "id": "ki3v7gxHnYWH",
        "colab_type": "text"
      },
      "source": [
        "#### Special symbols"
      ]
    },
    {
      "cell_type": "code",
      "metadata": {
        "id": "sbp6S71enYWN",
        "colab_type": "code",
        "colab": {}
      },
      "source": [
        "start_symbol = '^'\n",
        "end_symbol = '$'\n",
        "padding_symbol = '#'"
      ],
      "execution_count": 0,
      "outputs": []
    },
    {
      "cell_type": "markdown",
      "metadata": {
        "id": "jrHdsSHAnYWk",
        "colab_type": "text"
      },
      "source": [
        "You could notice that we have added 3 special symbols: '^', '\\$' and '#':\n",
        "- '^' symbol will be passed to the network to indicate the beginning of the decoding procedure. We will discuss this one later in more details.\n",
        "- '\\$' symbol will be used to indicate the *end of a string*, both for input and output sequences. \n",
        "- '#' symbol will be used as a *padding* character to make lengths of all strings equal within one training batch.\n",
        "\n",
        "People have a bit different habits when it comes to special symbols in encoder-decoder networks, so don't get too much confused if you come across other variants in tutorials you read. "
      ]
    },
    {
      "cell_type": "markdown",
      "metadata": {
        "id": "K6kehT5onYWr",
        "colab_type": "text"
      },
      "source": [
        "#### Padding"
      ]
    },
    {
      "cell_type": "markdown",
      "metadata": {
        "id": "q5jMdJManYWx",
        "colab_type": "text"
      },
      "source": [
        "When vocabularies are ready, we need to be able to convert a sentence to a list of vocabulary word indices and back. At the same time, let's care about padding. We are going to preprocess each sequence from the input (and output ground truth) in such a way that:\n",
        "- it has a predefined length *padded_len*\n",
        "- it is probably cut off or padded with the *padding symbol* '#'\n",
        "- it *always* ends with the *end symbol* '$'\n",
        "\n",
        "We will treat the original characters of the sequence **and the end symbol** as the valid part of the input. We will store *the actual length* of the sequence, which includes the end symbol, but does not include the padding symbols. "
      ]
    },
    {
      "cell_type": "markdown",
      "metadata": {
        "id": "pLgVvmd5nYW3",
        "colab_type": "text"
      },
      "source": [
        " Now you need to implement the function *sentence_to_ids* that does the described job. "
      ]
    },
    {
      "cell_type": "code",
      "metadata": {
        "id": "Mik9U5aAnYW8",
        "colab_type": "code",
        "colab": {}
      },
      "source": [
        "def sentence_to_ids(sentence, word2id, padded_len):\n",
        "    \"\"\" Converts a sequence of symbols to a padded sequence of their ids.\n",
        "    \n",
        "      sentence: a string, input/output sequence of symbols.\n",
        "      word2id: a dict, a mapping from original symbols to ids.\n",
        "      padded_len: an integer, a desirable length of the sequence.\n",
        "\n",
        "      result: a tuple of (a list of ids, an actual length of sentence).\n",
        "    \"\"\"\n",
        "    \n",
        "    sent_ids = [word2id[word] for word in sentence][:padded_len-1] + [word2id[end_symbol]]+ [word2id[padding_symbol] for _ in range(padded_len-len(sentence)-1)]\n",
        "    sent_len = min(padded_len-1, len(sentence))+1\n",
        "    \n",
        "    return sent_ids, sent_len"
      ],
      "execution_count": 0,
      "outputs": []
    },
    {
      "cell_type": "markdown",
      "metadata": {
        "id": "BB3r_KOinYXM",
        "colab_type": "text"
      },
      "source": [
        "Check that your implementation is correct:"
      ]
    },
    {
      "cell_type": "code",
      "metadata": {
        "id": "iBwHoQIYnYXT",
        "colab_type": "code",
        "colab": {}
      },
      "source": [
        "def test_sentence_to_ids():\n",
        "    sentences = [(\"123+123\", 7), (\"123+123\", 8), (\"123+123\", 10)]\n",
        "    expected_output = [([5, 6, 7, 3, 5, 6, 2], 7), \n",
        "                       ([5, 6, 7, 3, 5, 6, 7, 2], 8), \n",
        "                       ([5, 6, 7, 3, 5, 6, 7, 2, 0, 0], 8)] \n",
        "    for (sentence, padded_len), (sentence_ids, expected_length) in zip(sentences, expected_output):\n",
        "        output, length = sentence_to_ids(sentence, word2id, padded_len)\n",
        "        if output != sentence_ids:\n",
        "            return(\"Convertion of '{}' for padded_len={} to {} is incorrect.\".format(\n",
        "                sentence, padded_len, output))\n",
        "        if length != expected_length:\n",
        "            return(\"Convertion of '{}' for padded_len={} has incorrect actual length {}.\".format(\n",
        "                sentence, padded_len, length))\n",
        "    return(\"Tests passed.\")"
      ],
      "execution_count": 0,
      "outputs": []
    },
    {
      "cell_type": "code",
      "metadata": {
        "id": "-CzcZMFjnYXp",
        "colab_type": "code",
        "outputId": "6ecf38b7-207a-4c3c-90e1-94864e04ca00",
        "colab": {
          "base_uri": "https://localhost:8080/",
          "height": 34
        }
      },
      "source": [
        "print(test_sentence_to_ids())"
      ],
      "execution_count": 0,
      "outputs": [
        {
          "output_type": "stream",
          "text": [
            "Tests passed.\n"
          ],
          "name": "stdout"
        }
      ]
    },
    {
      "cell_type": "markdown",
      "metadata": {
        "id": "4TUL0OTgnYX9",
        "colab_type": "text"
      },
      "source": [
        "We also need to be able to get back from indices to symbols:"
      ]
    },
    {
      "cell_type": "code",
      "metadata": {
        "id": "qJlIih2VnYYC",
        "colab_type": "code",
        "colab": {}
      },
      "source": [
        "def ids_to_sentence(ids, id2word):\n",
        "    \"\"\" Converts a sequence of ids to a sequence of symbols.\n",
        "    \n",
        "          ids: a list, indices for the padded sequence.\n",
        "          id2word:  a dict, a mapping from ids to original symbols.\n",
        "\n",
        "          result: a list of symbols.\n",
        "    \"\"\"\n",
        " \n",
        "    return [id2word[i] for i in ids] "
      ],
      "execution_count": 0,
      "outputs": []
    },
    {
      "cell_type": "markdown",
      "metadata": {
        "id": "p5pOtoUVnYYa",
        "colab_type": "text"
      },
      "source": [
        "#### Generating batches"
      ]
    },
    {
      "cell_type": "markdown",
      "metadata": {
        "id": "2hUk83-inYYe",
        "colab_type": "text"
      },
      "source": [
        "The final step of data preparation is a function that transforms a batch of sentences to a list of lists of indices. "
      ]
    },
    {
      "cell_type": "code",
      "metadata": {
        "id": "fFNCIVeBnYYi",
        "colab_type": "code",
        "colab": {}
      },
      "source": [
        "def batch_to_ids(sentences, word2id, max_len):\n",
        "    \"\"\"Prepares batches of indices. \n",
        "    \n",
        "       Sequences are padded to match the longest sequence in the batch,\n",
        "       if it's longer than max_len, then max_len is used instead.\n",
        "\n",
        "        sentences: a list of strings, original sequences.\n",
        "        word2id: a dict, a mapping from original symbols to ids.\n",
        "        max_len: an integer, max len of sequences allowed.\n",
        "\n",
        "        result: a list of lists of ids, a list of actual lengths.\n",
        "    \"\"\"\n",
        "    \n",
        "    max_len_in_batch = min(max(len(s) for s in sentences) + 1, max_len)\n",
        "    batch_ids, batch_ids_len = [], []\n",
        "    for sentence in sentences:\n",
        "        ids, ids_len = sentence_to_ids(sentence, word2id, max_len_in_batch)\n",
        "        batch_ids.append(ids)\n",
        "        batch_ids_len.append(ids_len)\n",
        "    return batch_ids, batch_ids_len"
      ],
      "execution_count": 0,
      "outputs": []
    },
    {
      "cell_type": "markdown",
      "metadata": {
        "id": "Cww0H3runYY3",
        "colab_type": "text"
      },
      "source": [
        "The function *generate_batches* will help to generate batches with defined size from given samples."
      ]
    },
    {
      "cell_type": "code",
      "metadata": {
        "id": "vHK1AntnnYY8",
        "colab_type": "code",
        "colab": {}
      },
      "source": [
        "def generate_batches(samples, batch_size=64):\n",
        "    X, Y = [], []\n",
        "    for i, (x, y) in enumerate(samples, 1):\n",
        "        X.append(x)\n",
        "        Y.append(y)\n",
        "        if i % batch_size == 0:\n",
        "            yield X, Y\n",
        "            X, Y = [], []\n",
        "    if X and Y:\n",
        "        yield X, Y"
      ],
      "execution_count": 0,
      "outputs": []
    },
    {
      "cell_type": "markdown",
      "metadata": {
        "id": "0Uie3cA6nYZM",
        "colab_type": "text"
      },
      "source": [
        "To illustrate the result of the implemented functions, run the following cell:"
      ]
    },
    {
      "cell_type": "code",
      "metadata": {
        "id": "evrbolzVnYZR",
        "colab_type": "code",
        "outputId": "d21c5f06-482a-44b8-c8ca-065095afbc60",
        "colab": {
          "base_uri": "https://localhost:8080/",
          "height": 69
        }
      },
      "source": [
        "sentences = train_set[0]\n",
        "ids, sent_lens = batch_to_ids(sentences, word2id, max_len=10)\n",
        "print('Input:', sentences)\n",
        "print('Ids: {}\\nSentences lengths: {}'.format(ids, sent_lens))"
      ],
      "execution_count": 0,
      "outputs": [
        {
          "output_type": "stream",
          "text": [
            "Input: ('6738-9394', '-2656')\n",
            "Ids: [[10, 11, 7, 12, 4, 13, 7, 13, 8, 2], [4, 6, 10, 9, 10, 2, 0, 0, 0, 0]]\n",
            "Sentences lengths: [10, 6]\n"
          ],
          "name": "stdout"
        }
      ]
    },
    {
      "cell_type": "markdown",
      "metadata": {
        "id": "Ko6PQclwnYZm",
        "colab_type": "text"
      },
      "source": [
        "## Encoder-Decoder architecture\n",
        "\n",
        "Encoder-Decoder is a successful architecture for Seq2Seq tasks with different lengths of input and output sequences. The main idea is to use two recurrent neural networks, where the first neural network *encodes* the input sequence into a real-valued vector and then the second neural network *decodes* this vector into the output sequence. While building the neural network, we will specify some particular characteristics of this architecture."
      ]
    },
    {
      "cell_type": "code",
      "metadata": {
        "id": "uf8JTJ4ynYZq",
        "colab_type": "code",
        "colab": {}
      },
      "source": [
        "import tensorflow as tf"
      ],
      "execution_count": 0,
      "outputs": []
    },
    {
      "cell_type": "markdown",
      "metadata": {
        "id": "iJU295vQnYZ8",
        "colab_type": "text"
      },
      "source": [
        "Let us use TensorFlow building blocks to specify the network architecture."
      ]
    },
    {
      "cell_type": "code",
      "metadata": {
        "id": "6FVv1rDpnYaB",
        "colab_type": "code",
        "colab": {}
      },
      "source": [
        "class Seq2SeqModel(object):\n",
        "    pass"
      ],
      "execution_count": 0,
      "outputs": []
    },
    {
      "cell_type": "markdown",
      "metadata": {
        "id": "X8o6XbFJnYac",
        "colab_type": "text"
      },
      "source": [
        "First, we need to create [placeholders](https://www.tensorflow.org/api_guides/python/io_ops#Placeholders) to specify what data we are going to feed into the network during the execution time. For this task we will need:\n",
        " - *input_batch* — sequences of sentences (the shape will equal to [batch_size, max_sequence_len_in_batch]);\n",
        " - *input_batch_lengths* — lengths of not padded sequences (the shape equals to [batch_size]);\n",
        " - *ground_truth* — sequences of groundtruth (the shape will equal to [batch_size, max_sequence_len_in_batch]);\n",
        " - *ground_truth_lengths* — lengths of not padded groundtruth sequences (the shape equals to [batch_size]);\n",
        " - *dropout_ph* — dropout keep probability; this placeholder has a predifined value 1;\n",
        " - *learning_rate_ph* — learning rate."
      ]
    },
    {
      "cell_type": "code",
      "metadata": {
        "id": "RI8vJQS_nYah",
        "colab_type": "code",
        "colab": {}
      },
      "source": [
        "def declare_placeholders(self):\n",
        "    \"\"\"Specifies placeholders for the model.\"\"\"\n",
        "    \n",
        "    # Placeholders for input and its actual lengths.\n",
        "    self.input_batch = tf.placeholder(shape=(None, None), dtype=tf.int32, name='input_batch')\n",
        "    self.input_batch_lengths = tf.placeholder(shape=(None, ), dtype=tf.int32, name='input_batch_lengths')\n",
        "    \n",
        "    # Placeholders for groundtruth and its actual lengths.\n",
        "    self.ground_truth = tf.placeholder(shape=(None, None), dtype=tf.int32, name='ground_truth')\n",
        "    ######### YOUR CODE HERE #############\n",
        "    self.ground_truth_lengths =  tf.placeholder(shape=(None, ), dtype=tf.int32, name='ground_truth_lengths')\n",
        "    ######### YOUR CODE HERE #############\n",
        "        \n",
        "    self.dropout_ph = tf.placeholder_with_default(tf.cast(1.0, tf.float32), shape=[])\n",
        "    self.learning_rate_ph =  tf.placeholder(dtype=tf.float32, shape=[])######### YOUR CODE HERE ############# "
      ],
      "execution_count": 0,
      "outputs": []
    },
    {
      "cell_type": "code",
      "metadata": {
        "id": "onoaqjzCnYaw",
        "colab_type": "code",
        "colab": {}
      },
      "source": [
        "Seq2SeqModel.__declare_placeholders = classmethod(declare_placeholders)"
      ],
      "execution_count": 0,
      "outputs": []
    },
    {
      "cell_type": "markdown",
      "metadata": {
        "id": "mV-32jp5nYbA",
        "colab_type": "text"
      },
      "source": [
        "Now, let us specify the layers of the neural network. First, we need to prepare an embedding matrix. Since we use the same vocabulary for input and output, we need only one such matrix. For tasks with different vocabularies there would be multiple embedding layers.\n",
        "- Create embeddings matrix with [tf.Variable](https://www.tensorflow.org/api_docs/python/tf/Variable). Specify its name, type (tf.float32), and initialize with random values.\n",
        "- Perform [embeddings lookup](https://www.tensorflow.org/api_docs/python/tf/nn/embedding_lookup) for a given input batch."
      ]
    },
    {
      "cell_type": "code",
      "metadata": {
        "id": "TZliPxRunYbG",
        "colab_type": "code",
        "colab": {}
      },
      "source": [
        "def create_embeddings(self, vocab_size, embeddings_size):\n",
        "    \"\"\"Specifies embeddings layer and embeds an input batch.\"\"\"\n",
        "     \n",
        "    random_initializer = tf.random_uniform((vocab_size, embeddings_size), -1.0, 1.0)\n",
        "    self.embeddings = tf.Variable(random_initializer, dtype=tf.float32, name='embeddings_matrix')\n",
        "    ######### YOUR CODE HERE ############# \n",
        "    \n",
        "    # Perform embeddings lookup for self.input_batch. \n",
        "    self.input_batch_embedded = tf.nn.embedding_lookup(self.embeddings, self.input_batch)######### YOUR CODE HERE ############# "
      ],
      "execution_count": 0,
      "outputs": []
    },
    {
      "cell_type": "code",
      "metadata": {
        "id": "l7hPIZZinYbc",
        "colab_type": "code",
        "colab": {}
      },
      "source": [
        "Seq2SeqModel.__create_embeddings = classmethod(create_embeddings)"
      ],
      "execution_count": 0,
      "outputs": []
    },
    {
      "cell_type": "markdown",
      "metadata": {
        "id": "zqF8D_KOnYb-",
        "colab_type": "text"
      },
      "source": [
        "#### Encoder\n",
        "\n",
        "The first RNN of the current architecture is called an *encoder* and serves for encoding an input sequence to a real-valued vector. Input of this RNN is an embedded input batch. Since sentences in the same batch could have different actual lengths, we also provide input lengths to avoid unnecessary computations. The final encoder state will be passed to the second RNN (decoder), which we will create soon. \n",
        "\n",
        "- TensorFlow provides a number of [RNN cells](https://www.tensorflow.org/api_guides/python/contrib.rnn#Core_RNN_Cells_for_use_with_TensorFlow_s_core_RNN_methods) ready for use. We suggest that you use [GRU cell](https://www.tensorflow.org/api_docs/python/tf/contrib/rnn/GRUCell), but you can also experiment with other types. \n",
        "- Wrap your cells with [DropoutWrapper](https://www.tensorflow.org/api_docs/python/tf/contrib/rnn/DropoutWrapper). Dropout is an important regularization technique for neural networks. Specify input keep probability using the dropout placeholder that we created before.\n",
        "- Combine the defined encoder cells with [Dynamic RNN](https://www.tensorflow.org/api_docs/python/tf/nn/dynamic_rnn). Use the embedded input batches and their lengths here.\n",
        "- Use *dtype=tf.float32* everywhere."
      ]
    },
    {
      "cell_type": "code",
      "metadata": {
        "id": "2fLpDJdxnYcD",
        "colab_type": "code",
        "colab": {}
      },
      "source": [
        "def build_encoder(self, hidden_size):\n",
        "    \"\"\"Specifies encoder architecture and computes its output.\"\"\"\n",
        "    \n",
        "    # Create GRUCell with dropout.\n",
        "    encoder_cell = tf.contrib.rnn.DropoutWrapper(tf.contrib.rnn.GRUCell(hidden_size),  dtype=tf.float32, input_keep_prob=self.dropout_ph)\n",
        "    ######### YOUR CODE HERE #############\n",
        "    \n",
        "    # Create RNN with the predefined cell.\n",
        "    _, self.final_encoder_state = tf.nn.dynamic_rnn(encoder_cell, self.input_batch_embedded, dtype=tf.float32, sequence_length=self.input_batch_lengths)\n",
        "    \n",
        "    ######### YOUR CODE HERE #############"
      ],
      "execution_count": 0,
      "outputs": []
    },
    {
      "cell_type": "code",
      "metadata": {
        "id": "vLg618qSnYcV",
        "colab_type": "code",
        "colab": {}
      },
      "source": [
        "Seq2SeqModel.__build_encoder = classmethod(build_encoder)"
      ],
      "execution_count": 0,
      "outputs": []
    },
    {
      "cell_type": "markdown",
      "metadata": {
        "id": "qRnx3-o8nYck",
        "colab_type": "text"
      },
      "source": [
        "#### Decoder\n",
        "\n",
        "The second RNN is called a *decoder* and serves for generating the output sequence. In the simple seq2seq arcitecture, the input sequence is provided to the decoder only as the final state of the encoder. Obviously, it is a bottleneck and [Attention techniques](https://www.tensorflow.org/tutorials/seq2seq#background_on_the_attention_mechanism) can help to overcome it. So far, we do not need them to make our calculator work, but this would be a necessary ingredient for more advanced tasks. \n",
        "\n",
        "During training, decoder also uses information about the true output. It is feeded in as input symbol by symbol. However, during the prediction stage (which is called *inference* in this architecture), the decoder can only use its own generated output from the previous step to feed it in at the next step. Because of this difference (*training* vs *inference*), we will create two distinct instances, which will serve for the described scenarios.\n",
        "\n",
        "The picture below illustrates the point. It also shows our work with the special characters, e.g. look how the start symbol `^` is used. The transparent parts are ignored. In decoder, it is masked out in the loss computation. In encoder, the green state is considered as final and passed to the decoder. "
      ]
    },
    {
      "cell_type": "markdown",
      "metadata": {
        "id": "8mBY7CZhnYcn",
        "colab_type": "text"
      },
      "source": [
        "<img src=\"https://github.com/hse-aml/natural-language-processing/blob/master/week4/encoder-decoder-pic.png?raw=1\" style=\"width: 500px;\">"
      ]
    },
    {
      "cell_type": "markdown",
      "metadata": {
        "id": "IJ4qYeYHnYcq",
        "colab_type": "text"
      },
      "source": [
        "Now, it's time to implement the decoder:\n",
        " - First, we should create two [helpers](https://www.tensorflow.org/api_guides/python/contrib.seq2seq#Dynamic_Decoding). These classes help to determine the behaviour of the decoder. During the training time, we will use [TrainingHelper](https://www.tensorflow.org/api_docs/python/tf/contrib/seq2seq/TrainingHelper). For the inference we recommend to use [GreedyEmbeddingHelper](https://www.tensorflow.org/api_docs/python/tf/contrib/seq2seq/GreedyEmbeddingHelper).\n",
        " - To share all parameters during training and inference, we use one scope and set the flag 'reuse' to True at inference time. You might be interested to know more about how [variable scopes](https://www.tensorflow.org/programmers_guide/variables) work in TF. \n",
        " - To create the decoder itself, we will use [BasicDecoder](https://www.tensorflow.org/api_docs/python/tf/contrib/seq2seq/BasicDecoder) class. As previously, you should choose some RNN cell, e.g. GRU cell. To turn hidden states into logits, we will need a projection layer. One of the simple solutions is using [OutputProjectionWrapper](https://www.tensorflow.org/api_docs/python/tf/contrib/rnn/OutputProjectionWrapper).\n",
        " - For getting the predictions, it will be convinient to use [dynamic_decode](https://www.tensorflow.org/api_docs/python/tf/contrib/seq2seq/dynamic_decode). This function uses the provided decoder to perform decoding."
      ]
    },
    {
      "cell_type": "code",
      "metadata": {
        "id": "rVQsSQpOnYcw",
        "colab_type": "code",
        "colab": {}
      },
      "source": [
        "def build_decoder(self, hidden_size, vocab_size, max_iter, start_symbol_id, end_symbol_id):\n",
        "    \"\"\"Specifies decoder architecture and computes the output.\n",
        "    \n",
        "        Uses different helpers:\n",
        "          - for train: feeding ground truth\n",
        "          - for inference: feeding generated output\n",
        "\n",
        "        As a result, self.train_outputs and self.infer_outputs are created. \n",
        "        Each of them contains two fields:\n",
        "          rnn_output (predicted logits)\n",
        "          sample_id (predictions).\n",
        "\n",
        "    \"\"\"\n",
        "    \n",
        "    # Use start symbols as the decoder inputs at the first time step.\n",
        "    batch_size = tf.shape(self.input_batch)[0]\n",
        "    start_tokens = tf.fill([batch_size], start_symbol_id)\n",
        "    ground_truth_as_input = tf.concat([tf.expand_dims(start_tokens, 1), self.ground_truth], 1)\n",
        "    \n",
        "    # Use the embedding layer defined before to lookup embedings for ground_truth_as_input. \n",
        "    self.ground_truth_embedded =tf.nn.embedding_lookup(self.embeddings, ground_truth_as_input) \n",
        "    ######### YOUR CODE HERE #############\n",
        "     \n",
        "    # Create TrainingHelper for the train stage.\n",
        "    train_helper = tf.contrib.seq2seq.TrainingHelper(self.ground_truth_embedded, \n",
        "                                                     self.ground_truth_lengths)\n",
        "    \n",
        "    # Create GreedyEmbeddingHelper for the inference stage.\n",
        "    # You should provide the embedding layer, start_tokens and index of the end symbol.\n",
        "    infer_helper = tf.contrib.seq2seq.GreedyEmbeddingHelper(self.embeddings,start_tokens, end_symbol_id)\n",
        "    ######### YOUR CODE HERE #############\n",
        "    \n",
        "  \n",
        "    def decode(helper, scope, reuse=None):\n",
        "        \"\"\"Creates decoder and return the results of the decoding with a given helper.\"\"\"\n",
        "        \n",
        "        with tf.variable_scope(scope, reuse=reuse):\n",
        "            # Create GRUCell with dropout. Do not forget to set the reuse flag properly.\n",
        "            decoder_cell =tf.contrib.rnn.DropoutWrapper(tf.contrib.rnn.GRUCell(hidden_size, reuse=reuse), dtype=tf.float32, input_keep_prob=self.dropout_ph)\n",
        "            \n",
        "            ######### YOUR CODE HERE #############\n",
        "            \n",
        "            # Create a projection wrapper.\n",
        "            decoder_cell = tf.contrib.rnn.OutputProjectionWrapper(decoder_cell, vocab_size, reuse=reuse)\n",
        "            \n",
        "            # Create BasicDecoder, pass the defined cell, a helper, and initial state.\n",
        "            # The initial state should be equal to the final state of the encoder!\n",
        "            decoder = tf.contrib.seq2seq.BasicDecoder(cell=decoder_cell, helper=helper, initial_state=self.final_encoder_state)\n",
        "            \n",
        "            ######### YOUR CODE HERE #############\n",
        "            \n",
        "            # The first returning argument of dynamic_decode contains two fields:\n",
        "            #   rnn_output (predicted logits)\n",
        "            #   sample_id (predictions)\n",
        "            outputs, _, _ = tf.contrib.seq2seq.dynamic_decode(decoder=decoder, maximum_iterations=max_iter, \n",
        "                                                              output_time_major=False, impute_finished=True)\n",
        "\n",
        "            return outputs\n",
        "        \n",
        "    self.train_outputs = decode(train_helper, 'decode')\n",
        "    self.infer_outputs = decode(infer_helper, 'decode', reuse=True)"
      ],
      "execution_count": 0,
      "outputs": []
    },
    {
      "cell_type": "code",
      "metadata": {
        "id": "fAKgtTWmnYc7",
        "colab_type": "code",
        "colab": {}
      },
      "source": [
        "Seq2SeqModel.__build_decoder = classmethod(build_decoder)"
      ],
      "execution_count": 0,
      "outputs": []
    },
    {
      "cell_type": "markdown",
      "metadata": {
        "id": "ugPTiN5knYdK",
        "colab_type": "text"
      },
      "source": [
        "In this task we will use [sequence_loss](https://www.tensorflow.org/api_docs/python/tf/contrib/seq2seq/sequence_loss), which is a weighted cross-entropy loss for a sequence of logits. Take a moment to understand, what is your train logits and targets. Also note, that we do not want to take into account loss terms coming from padding symbols, so we will mask them out using weights.  "
      ]
    },
    {
      "cell_type": "code",
      "metadata": {
        "id": "puccSYnznYdO",
        "colab_type": "code",
        "colab": {}
      },
      "source": [
        "def compute_loss(self):\n",
        "    \"\"\"Computes sequence loss (masked cross-entopy loss with logits).\"\"\"\n",
        "    \n",
        "    weights = tf.cast(tf.sequence_mask(self.ground_truth_lengths), dtype=tf.float32)\n",
        "    \n",
        "    self.loss = tf.contrib.seq2seq.sequence_loss(self.train_outputs.rnn_output, self.ground_truth, weights)\n",
        "    ######### YOUR CODE HERE #############"
      ],
      "execution_count": 0,
      "outputs": []
    },
    {
      "cell_type": "code",
      "metadata": {
        "id": "5AOZXKA4nYda",
        "colab_type": "code",
        "colab": {}
      },
      "source": [
        "Seq2SeqModel.__compute_loss = classmethod(compute_loss)"
      ],
      "execution_count": 0,
      "outputs": []
    },
    {
      "cell_type": "markdown",
      "metadata": {
        "id": "AAxgyTXqnYd2",
        "colab_type": "text"
      },
      "source": [
        "\n",
        "The last thing to specify is the optimization of the defined loss. \n",
        "We suggest that you use [optimize_loss](https://www.tensorflow.org/api_docs/python/tf/contrib/layers/optimize_loss) with Adam optimizer and a learning rate from the corresponding placeholder. You might also need to pass global step (e.g. as tf.train.get_global_step()) and clip gradients by 1.0."
      ]
    },
    {
      "cell_type": "code",
      "metadata": {
        "id": "z79FIqk6nYd6",
        "colab_type": "code",
        "colab": {}
      },
      "source": [
        "def perform_optimization(self):\n",
        "    \"\"\"Specifies train_op that optimizes self.loss.\"\"\"\n",
        "    \n",
        "    self.train_op =tf.contrib.layers.optimize_loss(self.loss, global_step=tf.train.get_global_step() ,learning_rate=self.learning_rate_ph,\n",
        "                                                    optimizer='Adam', clip_gradients=1.0)\n",
        "\n",
        "\n",
        "    \n",
        "    ######### YOUR CODE HERE #############"
      ],
      "execution_count": 0,
      "outputs": []
    },
    {
      "cell_type": "code",
      "metadata": {
        "id": "2xMaJzEbnYeG",
        "colab_type": "code",
        "colab": {}
      },
      "source": [
        "Seq2SeqModel.__perform_optimization = classmethod(perform_optimization)"
      ],
      "execution_count": 0,
      "outputs": []
    },
    {
      "cell_type": "markdown",
      "metadata": {
        "id": "rRpjgqxJnYeP",
        "colab_type": "text"
      },
      "source": [
        "Congratulations! You have specified all the parts of your network. You may have noticed, that we didn't deal with any real data yet, so what you have written is just recipies on how the network should function.\n",
        "Now we will put them to the constructor of our Seq2SeqModel class to use it in the next section. "
      ]
    },
    {
      "cell_type": "code",
      "metadata": {
        "id": "8ju5IonknYeT",
        "colab_type": "code",
        "colab": {}
      },
      "source": [
        "def init_model(self, vocab_size, embeddings_size, hidden_size, \n",
        "               max_iter, start_symbol_id, end_symbol_id, padding_symbol_id):\n",
        "    \n",
        "    self.__declare_placeholders()\n",
        "    self.__create_embeddings(vocab_size, embeddings_size)\n",
        "    self.__build_encoder(hidden_size)\n",
        "    self.__build_decoder(hidden_size, vocab_size, max_iter, start_symbol_id, end_symbol_id)\n",
        "    \n",
        "    # Compute loss and back-propagate.\n",
        "    self.__compute_loss()\n",
        "    self.__perform_optimization()\n",
        "    \n",
        "    # Get predictions for evaluation.\n",
        "    self.train_predictions = self.train_outputs.sample_id\n",
        "    self.infer_predictions = self.infer_outputs.sample_id"
      ],
      "execution_count": 0,
      "outputs": []
    },
    {
      "cell_type": "code",
      "metadata": {
        "id": "VqkmchffnYej",
        "colab_type": "code",
        "colab": {}
      },
      "source": [
        "Seq2SeqModel.__init__ = classmethod(init_model)"
      ],
      "execution_count": 0,
      "outputs": []
    },
    {
      "cell_type": "markdown",
      "metadata": {
        "id": "0ieCwTTcnYet",
        "colab_type": "text"
      },
      "source": [
        "## Train the network and predict output\n",
        "\n",
        "[Session.run](https://www.tensorflow.org/api_docs/python/tf/Session#run) is a point which initiates computations in the graph that we have defined. To train the network, we need to compute *self.train_op*. To predict output, we just need to compute *self.infer_predictions*. In any case, we need to feed actual data through the placeholders that we defined above. "
      ]
    },
    {
      "cell_type": "code",
      "metadata": {
        "id": "Q1O10cMKnYew",
        "colab_type": "code",
        "colab": {}
      },
      "source": [
        "def train_on_batch(self, session, X, X_seq_len, Y, Y_seq_len, learning_rate, dropout_keep_probability):\n",
        "    feed_dict = {\n",
        "            self.input_batch: X,\n",
        "            self.input_batch_lengths: X_seq_len,\n",
        "            self.ground_truth: Y,\n",
        "            self.ground_truth_lengths: Y_seq_len,\n",
        "            self.learning_rate_ph: learning_rate,\n",
        "            self.dropout_ph: dropout_keep_probability\n",
        "        }\n",
        "    pred, loss, _ = session.run([\n",
        "            self.train_predictions,\n",
        "            self.loss,\n",
        "            self.train_op], feed_dict=feed_dict)\n",
        "    return pred, loss"
      ],
      "execution_count": 0,
      "outputs": []
    },
    {
      "cell_type": "code",
      "metadata": {
        "id": "68Fm-i1KnYfC",
        "colab_type": "code",
        "colab": {}
      },
      "source": [
        "Seq2SeqModel.train_on_batch = classmethod(train_on_batch)"
      ],
      "execution_count": 0,
      "outputs": []
    },
    {
      "cell_type": "markdown",
      "metadata": {
        "id": "zcUYC4H_nYfM",
        "colab_type": "text"
      },
      "source": [
        "We implemented two prediction functions: *predict_for_batch* and *predict_for_batch_with_loss*. The first one allows only to predict output for some input sequence, while the second one could compute loss because we provide also ground truth values. Both these functions might be useful since the first one could be used for predicting only, and the second one is helpful for validating results on not-training data during the training."
      ]
    },
    {
      "cell_type": "code",
      "metadata": {
        "id": "SV-7Y72qnYfP",
        "colab_type": "code",
        "colab": {}
      },
      "source": [
        "def predict_for_batch(self, session, X, X_seq_len):\n",
        "    feed_dict = {\n",
        "        self.input_batch: X,\n",
        "        self.input_batch_lengths: X_seq_len,\n",
        "        self.dropout_ph: 1.0\n",
        "    }\n",
        "    pred = session.run([\n",
        "            self.infer_predictions\n",
        "        ], feed_dict=feed_dict)[0]\n",
        "    return pred\n",
        "\n",
        "def predict_for_batch_with_loss(self, session, X, X_seq_len, Y, Y_seq_len):\n",
        "    feed_dict = {\n",
        "        self.input_batch: X,\n",
        "        self.input_batch_lengths: X_seq_len,\n",
        "        self.ground_truth: Y,\n",
        "        self.ground_truth_lengths: Y_seq_len,\n",
        "        self.dropout_ph: 1.0\n",
        "    }\n",
        "    pred, loss = session.run([\n",
        "            self.infer_predictions,\n",
        "            self.loss,\n",
        "        ], feed_dict=feed_dict)\n",
        "    return pred, loss"
      ],
      "execution_count": 0,
      "outputs": []
    },
    {
      "cell_type": "code",
      "metadata": {
        "id": "2MnZ2mxKnYff",
        "colab_type": "code",
        "colab": {}
      },
      "source": [
        "Seq2SeqModel.predict_for_batch = classmethod(predict_for_batch)\n",
        "Seq2SeqModel.predict_for_batch_with_loss = classmethod(predict_for_batch_with_loss)"
      ],
      "execution_count": 0,
      "outputs": []
    },
    {
      "cell_type": "markdown",
      "metadata": {
        "id": "Ex46Fa9unYfo",
        "colab_type": "text"
      },
      "source": [
        "## Run your experiment\n",
        "\n",
        "Create *Seq2SeqModel* model with the following parameters:\n",
        " - *vocab_size* — number of tokens;\n",
        " - *embeddings_size* — dimension of embeddings, recommended value: 20;\n",
        " - *max_iter* — maximum number of steps in decoder, recommended value: 7;\n",
        " - *hidden_size* — size of hidden layers for RNN, recommended value: 512;\n",
        " - *start_symbol_id* — an index of the start token (`^`).\n",
        " - *end_symbol_id* — an index of the end token (`$`).\n",
        " - *padding_symbol_id* — an index of the padding token (`#`).\n",
        "\n",
        "Set hyperparameters. You might want to start with the following values and see how it works:\n",
        "- *batch_size*: 128;\n",
        "- at least 10 epochs;\n",
        "- value of *learning_rate*: 0.001\n",
        "- *dropout_keep_probability* equals to 0.5 for training (typical values for dropout probability are ranging from 0.1 to 1.0); larger values correspond smaler number of dropout units;\n",
        "- *max_len*: 20."
      ]
    },
    {
      "cell_type": "code",
      "metadata": {
        "id": "rUfx8RkCnYft",
        "colab_type": "code",
        "outputId": "10f77e7c-6ec5-4e15-e79b-c805eaecac6e",
        "colab": {
          "base_uri": "https://localhost:8080/",
          "height": 506
        }
      },
      "source": [
        "tf.reset_default_graph()\n",
        "\n",
        "model = Seq2SeqModel(vocab_size=len(word2id), \n",
        "                     embeddings_size=20, \n",
        "                     hidden_size=512, \n",
        "                     max_iter=7, \n",
        "                     start_symbol_id=word2id[start_symbol], \n",
        "                     end_symbol_id=word2id[end_symbol], \n",
        "                     padding_symbol_id=word2id[padding_symbol])\n",
        "\n",
        "\n",
        "batch_size = 128 ######### YOUR CODE HERE #############\n",
        "n_epochs = 10 ######### YOUR CODE HERE #############\n",
        "learning_rate = 0.001 ######### YOUR CODE HERE #############\n",
        "dropout_keep_probability = 0.5 ######### YOUR CODE HERE #############\n",
        "max_len = 20 ######### YOUR CODE HERE #############\n",
        "n_step = int(len(train_set) / batch_size)"
      ],
      "execution_count": 0,
      "outputs": [
        {
          "output_type": "stream",
          "text": [
            "WARNING: Logging before flag parsing goes to stderr.\n",
            "W0622 11:31:02.770568 140300403656576 lazy_loader.py:50] \n",
            "The TensorFlow contrib module will not be included in TensorFlow 2.0.\n",
            "For more information, please see:\n",
            "  * https://github.com/tensorflow/community/blob/master/rfcs/20180907-contrib-sunset.md\n",
            "  * https://github.com/tensorflow/addons\n",
            "  * https://github.com/tensorflow/io (for I/O related ops)\n",
            "If you depend on functionality not listed there, please file an issue.\n",
            "\n",
            "W0622 11:31:02.771998 140300403656576 deprecation.py:323] From <ipython-input-57-a8bb5ad5626c>:5: GRUCell.__init__ (from tensorflow.python.ops.rnn_cell_impl) is deprecated and will be removed in a future version.\n",
            "Instructions for updating:\n",
            "This class is equivalent as tf.keras.layers.GRUCell, and will be replaced by that in Tensorflow 2.0.\n",
            "W0622 11:31:02.783932 140300403656576 deprecation.py:323] From <ipython-input-57-a8bb5ad5626c>:9: dynamic_rnn (from tensorflow.python.ops.rnn) is deprecated and will be removed in a future version.\n",
            "Instructions for updating:\n",
            "Please use `keras.layers.RNN(cell)`, which is equivalent to this API\n",
            "W0622 11:31:02.928651 140300403656576 deprecation.py:506] From /usr/local/lib/python3.6/dist-packages/tensorflow/python/ops/init_ops.py:1251: calling VarianceScaling.__init__ (from tensorflow.python.ops.init_ops) with dtype is deprecated and will be removed in a future version.\n",
            "Instructions for updating:\n",
            "Call initializer instance with the dtype argument instead of passing it to the constructor\n",
            "W0622 11:31:02.943341 140300403656576 deprecation.py:506] From /usr/local/lib/python3.6/dist-packages/tensorflow/python/ops/rnn_cell_impl.py:564: calling Constant.__init__ (from tensorflow.python.ops.init_ops) with dtype is deprecated and will be removed in a future version.\n",
            "Instructions for updating:\n",
            "Call initializer instance with the dtype argument instead of passing it to the constructor\n",
            "W0622 11:31:02.959366 140300403656576 deprecation.py:506] From /usr/local/lib/python3.6/dist-packages/tensorflow/python/ops/rnn_cell_impl.py:574: calling Zeros.__init__ (from tensorflow.python.ops.init_ops) with dtype is deprecated and will be removed in a future version.\n",
            "Instructions for updating:\n",
            "Call initializer instance with the dtype argument instead of passing it to the constructor\n",
            "W0622 11:31:03.320527 140300403656576 deprecation.py:323] From /usr/local/lib/python3.6/dist-packages/tensorflow/python/ops/rnn.py:244: add_dispatch_support.<locals>.wrapper (from tensorflow.python.ops.array_ops) is deprecated and will be removed in a future version.\n",
            "Instructions for updating:\n",
            "Use tf.where in 2.0, which has the same broadcast rule as np.where\n"
          ],
          "name": "stderr"
        }
      ]
    },
    {
      "cell_type": "markdown",
      "metadata": {
        "id": "LZFWwGqFnYf6",
        "colab_type": "text"
      },
      "source": [
        "Finally, we are ready to run the training! A good indicator that everything works fine is decreasing loss during the training. You should account on the loss value equal to approximately 2.7 at the beginning of the training and near 1 after the 10th epoch."
      ]
    },
    {
      "cell_type": "code",
      "metadata": {
        "scrolled": true,
        "id": "CWulnzjKnYf-",
        "colab_type": "code",
        "outputId": "8f89ac64-7a5a-40dd-88f8-db76336a1fc9",
        "colab": {
          "base_uri": "https://localhost:8080/",
          "height": 3212
        }
      },
      "source": [
        "session = tf.Session()\n",
        "session.run(tf.global_variables_initializer())\n",
        "            \n",
        "invalid_number_prediction_counts = []\n",
        "all_model_predictions = []\n",
        "all_ground_truth = []\n",
        "\n",
        "print('Start training... \\n')\n",
        "for epoch in range(n_epochs):  \n",
        "    random.shuffle(train_set)\n",
        "    random.shuffle(test_set)\n",
        "    \n",
        "    print('Train: epoch', epoch + 1)\n",
        "    for n_iter, (X_batch, Y_batch) in enumerate(generate_batches(train_set, batch_size=batch_size)):\n",
        "        ######################################\n",
        "        ######### YOUR CODE HERE #############\n",
        "        ######################################\n",
        "        # prepare the data (X_batch and Y_batch) for training\n",
        "        # using function batch_to_ids\n",
        "        X, X_seq_len = batch_to_ids(X_batch, word2id, max_len)\n",
        "        Y, Y_seq_len = batch_to_ids(Y_batch, word2id, max_len)\n",
        "        predictions, loss = model.train_on_batch(session, \n",
        "                                                X, \n",
        "                                                X_seq_len, \n",
        "                                                Y, \n",
        "                                                Y_seq_len, \n",
        "                                                learning_rate, \n",
        "                                                dropout_keep_probability)\n",
        "        \n",
        "        ######### YOUR CODE HERE #############\n",
        "        \n",
        "        if n_iter % 200 == 0:\n",
        "            print(\"Epoch: [%d/%d], step: [%d/%d], loss: %f\" % (epoch + 1, n_epochs, n_iter + 1, n_step, loss))\n",
        "                \n",
        "    X_sent, Y_sent = next(generate_batches(test_set, batch_size=batch_size))\n",
        "    ######################################\n",
        "    ######### YOUR CODE HERE #############\n",
        "    ######################################\n",
        "    # prepare test data (X_sent and Y_sent) for predicting \n",
        "    # quality and computing value of the loss function\n",
        "    # using function batch_to_ids\n",
        "    X, X_seq_len = batch_to_ids(X_sent, word2id, max_len)\n",
        "    Y, Y_seq_len = batch_to_ids(Y_sent, word2id, max_len)\n",
        "    predictions, loss =  model.predict_for_batch_with_loss(session, \n",
        "                                                X, \n",
        "                                                X_seq_len, \n",
        "                                                Y, \n",
        "                                                Y_seq_len) \n",
        "\n",
        "    ######### YOUR CODE HERE #############\n",
        "    print('Test: epoch', epoch + 1, 'loss:', loss,)\n",
        "    for x, y, p  in list(zip(X, Y, predictions))[:3]:\n",
        "        print('X:',''.join(ids_to_sentence(x, id2word)))\n",
        "        print('Y:',''.join(ids_to_sentence(y, id2word)))\n",
        "        print('O:',''.join(ids_to_sentence(p, id2word)))\n",
        "        print('')\n",
        "\n",
        "    model_predictions = []\n",
        "    ground_truth = []\n",
        "    invalid_number_prediction_count = 0\n",
        "    # For the whole test set calculate ground-truth values (as integer numbers)\n",
        "    # and prediction values (also as integers) to calculate metrics.\n",
        "    # If generated by model number is not correct (e.g. '1-1'), \n",
        "    # increase invalid_number_prediction_count and don't append this and corresponding\n",
        "    # ground-truth value to the arrays.\n",
        "    for X_batch, Y_batch in generate_batches(test_set, batch_size=batch_size):\n",
        "      X, X_seq_len = batch_to_ids(X_batch, word2id, max_len)\n",
        "      Y, Y_seq_len = batch_to_ids(Y_batch, word2id, max_len)\n",
        "      predictions, loss = model.predict_for_batch_with_loss(session, X, X_seq_len, Y, Y_seq_len) \n",
        "      for  y, p  in list(zip( Y, predictions)):\n",
        "        try:\n",
        "          truth_val = eval(''.join(ids_to_sentence(y, id2word)).split('$')[0])\n",
        "          p_val = eval(''.join(ids_to_sentence(p, id2word)).split('$')[0])\n",
        "          model_predictions.append(p_val)\n",
        "          ground_truth.append(truth_val)\n",
        "        except:\n",
        "          invalid_number_prediction_count += 1\n",
        "            \n",
        "        ######################################\n",
        "        ######### YOUR CODE HERE #############\n",
        "        ######################################\n",
        "    \n",
        "    all_model_predictions.append(model_predictions)\n",
        "    all_ground_truth.append(ground_truth)\n",
        "    invalid_number_prediction_counts.append(invalid_number_prediction_count)\n",
        "            \n",
        "print('\\n...training finished.')"
      ],
      "execution_count": 0,
      "outputs": [
        {
          "output_type": "stream",
          "text": [
            "Start training... \n",
            "\n",
            "Train: epoch 1\n",
            "Epoch: [1/10], step: [1/625], loss: 2.723646\n",
            "Epoch: [1/10], step: [201/625], loss: 1.845449\n",
            "Epoch: [1/10], step: [401/625], loss: 1.742237\n",
            "Epoch: [1/10], step: [601/625], loss: 1.655584\n",
            "Test: epoch 1 loss: 1.609023\n",
            "X: 9864+4518$\n",
            "Y: 14382$\n",
            "O: 13853$\n",
            "\n",
            "X: 1412-973$#\n",
            "Y: 439$##\n",
            "O: -3423$\n",
            "\n",
            "X: 2532+4746$\n",
            "Y: 7278$#\n",
            "O: 6053$#\n",
            "\n",
            "Train: epoch 2\n",
            "Epoch: [2/10], step: [1/625], loss: 1.594111\n",
            "Epoch: [2/10], step: [201/625], loss: 1.540531\n",
            "Epoch: [2/10], step: [401/625], loss: 1.466328\n",
            "Epoch: [2/10], step: [601/625], loss: 1.454484\n",
            "Test: epoch 2 loss: 1.4087921\n",
            "X: 3472-5875$\n",
            "Y: -2403$\n",
            "O: -2776$\n",
            "\n",
            "X: 3700+4095$\n",
            "Y: 7795$#\n",
            "O: 7776$#\n",
            "\n",
            "X: 6437+2934$\n",
            "Y: 9371$#\n",
            "O: 9566$#\n",
            "\n",
            "Train: epoch 3\n",
            "Epoch: [3/10], step: [1/625], loss: 1.472387\n",
            "Epoch: [3/10], step: [201/625], loss: 1.441082\n",
            "Epoch: [3/10], step: [401/625], loss: 1.425239\n",
            "Epoch: [3/10], step: [601/625], loss: 1.409379\n",
            "Test: epoch 3 loss: 1.3333845\n",
            "X: 4963-3610$\n",
            "Y: 1353$#\n",
            "O: 1055$#\n",
            "\n",
            "X: 2624+1172$\n",
            "Y: 3796$#\n",
            "O: 3924$#\n",
            "\n",
            "X: 7986-3366$\n",
            "Y: 4620$#\n",
            "O: 4334$#\n",
            "\n",
            "Train: epoch 4\n",
            "Epoch: [4/10], step: [1/625], loss: 1.379114\n",
            "Epoch: [4/10], step: [201/625], loss: 1.359781\n",
            "Epoch: [4/10], step: [401/625], loss: 1.338213\n",
            "Epoch: [4/10], step: [601/625], loss: 1.362094\n",
            "Test: epoch 4 loss: 1.2735293\n",
            "X: 9952-882$#\n",
            "Y: 9070$#\n",
            "O: 8999$#\n",
            "\n",
            "X: 4236+6149$\n",
            "Y: 10385$\n",
            "O: 10265$\n",
            "\n",
            "X: 1242-710$#\n",
            "Y: 532$##\n",
            "O: 566$##\n",
            "\n",
            "Train: epoch 5\n",
            "Epoch: [5/10], step: [1/625], loss: 1.306487\n",
            "Epoch: [5/10], step: [201/625], loss: 1.333245\n",
            "Epoch: [5/10], step: [401/625], loss: 1.317523\n",
            "Epoch: [5/10], step: [601/625], loss: 1.275179\n",
            "Test: epoch 5 loss: 1.2592621\n",
            "X: 4218-1469$\n",
            "Y: 2749$#\n",
            "O: 2714$#\n",
            "\n",
            "X: 9987+6902$\n",
            "Y: 16889$\n",
            "O: 16777$\n",
            "\n",
            "X: 3571-4519$\n",
            "Y: -948$#\n",
            "O: -812$#\n",
            "\n",
            "Train: epoch 6\n",
            "Epoch: [6/10], step: [1/625], loss: 1.315012\n",
            "Epoch: [6/10], step: [201/625], loss: 1.262942\n",
            "Epoch: [6/10], step: [401/625], loss: 1.262915\n",
            "Epoch: [6/10], step: [601/625], loss: 1.201442\n",
            "Test: epoch 6 loss: 1.1923568\n",
            "X: 5095+5343$\n",
            "Y: 10438$\n",
            "O: 10444$\n",
            "\n",
            "X: 3018+6665$\n",
            "Y: 9683$#\n",
            "O: 9888$#\n",
            "\n",
            "X: 1244+518$#\n",
            "Y: 1762$#\n",
            "O: 1722$#\n",
            "\n",
            "Train: epoch 7\n",
            "Epoch: [7/10], step: [1/625], loss: 1.260864\n",
            "Epoch: [7/10], step: [201/625], loss: 1.191409\n",
            "Epoch: [7/10], step: [401/625], loss: 1.184980\n",
            "Epoch: [7/10], step: [601/625], loss: 1.099703\n",
            "Test: epoch 7 loss: 1.0815892\n",
            "X: 8213-1164$\n",
            "Y: 7049$#\n",
            "O: 7048$#\n",
            "\n",
            "X: 1303+8463$\n",
            "Y: 9766$#\n",
            "O: 9686$#\n",
            "\n",
            "X: 9731-4261$\n",
            "Y: 5470$#\n",
            "O: 5488$#\n",
            "\n",
            "Train: epoch 8\n",
            "Epoch: [8/10], step: [1/625], loss: 1.116015\n",
            "Epoch: [8/10], step: [201/625], loss: 1.085752\n",
            "Epoch: [8/10], step: [401/625], loss: 1.069359\n",
            "Epoch: [8/10], step: [601/625], loss: 1.083261\n",
            "Test: epoch 8 loss: 1.0212402\n",
            "X: 6280-8232$\n",
            "Y: -1952$\n",
            "O: -2006$\n",
            "\n",
            "X: 7895+3051$\n",
            "Y: 10946$\n",
            "O: 10960$\n",
            "\n",
            "X: 2980+2712$\n",
            "Y: 5692$#\n",
            "O: 5699$#\n",
            "\n",
            "Train: epoch 9\n",
            "Epoch: [9/10], step: [1/625], loss: 1.013161\n",
            "Epoch: [9/10], step: [201/625], loss: 1.033469\n",
            "Epoch: [9/10], step: [401/625], loss: 1.020969\n",
            "Epoch: [9/10], step: [601/625], loss: 0.952989\n",
            "Test: epoch 9 loss: 0.9908836\n",
            "X: 3868+8907$\n",
            "Y: 12775$\n",
            "O: 12802$\n",
            "\n",
            "X: 2231-9080$\n",
            "Y: -6849$\n",
            "O: -6811$\n",
            "\n",
            "X: 5396-8804$\n",
            "Y: -3408$\n",
            "O: -3424$\n",
            "\n",
            "Train: epoch 10\n",
            "Epoch: [10/10], step: [1/625], loss: 0.986080\n",
            "Epoch: [10/10], step: [201/625], loss: 0.960372\n",
            "Epoch: [10/10], step: [401/625], loss: 0.939949\n",
            "Epoch: [10/10], step: [601/625], loss: 0.977884\n",
            "Test: epoch 10 loss: 0.9346008\n",
            "X: 5347+9567$\n",
            "Y: 14914$\n",
            "O: 14915$\n",
            "\n",
            "X: 5950-6167$\n",
            "Y: -217$#\n",
            "O: -270$#\n",
            "\n",
            "X: 1714+3634$\n",
            "Y: 5348$#\n",
            "O: 5355$#\n",
            "\n",
            "\n",
            "...training finished.\n"
          ],
          "name": "stdout"
        }
      ]
    },
    {
      "cell_type": "code",
      "metadata": {
        "id": "n7-qtzhoM7W5",
        "colab_type": "code",
        "outputId": "8e09922c-9fe6-4bf6-b258-44c309d43a58",
        "colab": {
          "base_uri": "https://localhost:8080/",
          "height": 3247
        }
      },
      "source": [
        "tf.reset_default_graph()\n",
        "\n",
        "model = Seq2SeqModel(vocab_size=len(word2id), \n",
        "                     embeddings_size=20, \n",
        "                     hidden_size=512, \n",
        "                     max_iter=7, \n",
        "                     start_symbol_id=word2id[start_symbol], \n",
        "                     end_symbol_id=word2id[end_symbol], \n",
        "                     padding_symbol_id=word2id[padding_symbol])\n",
        "\n",
        "batch_size = 128\n",
        "n_epochs = 10\n",
        "learning_rate = 0.003\n",
        "dropout_keep_probability = 0.5\n",
        "max_len = 20\n",
        "\n",
        "n_step = int(len(train_set) / batch_size)\n",
        "\n",
        "\n",
        "session = tf.Session()\n",
        "session.run(tf.global_variables_initializer())\n",
        "            \n",
        "invalid_number_prediction_counts = []\n",
        "all_model_predictions = []\n",
        "all_ground_truth = []\n",
        "\n",
        "print('Experiment with learning rate of 0.003... \\n')\n",
        "print('Start training... \\n')\n",
        "for epoch in range(n_epochs):  \n",
        "    random.shuffle(train_set)\n",
        "    random.shuffle(test_set)\n",
        "    \n",
        "    print('Train: epoch', epoch + 1)\n",
        "    for n_iter, (X_batch, Y_batch) in enumerate(generate_batches(train_set, batch_size=batch_size)):\n",
        "        ######################################\n",
        "        ######### YOUR CODE HERE #############\n",
        "        ######################################\n",
        "        # prepare the data (X_batch and Y_batch) for training\n",
        "        # using function batch_to_ids\n",
        "        X, X_seq_len = batch_to_ids(X_batch, word2id, max_len)\n",
        "        Y, Y_seq_len = batch_to_ids(Y_batch, word2id, max_len)\n",
        "        predictions, loss = model.train_on_batch(session, \n",
        "                                                X, \n",
        "                                                X_seq_len, \n",
        "                                                Y, \n",
        "                                                Y_seq_len, \n",
        "                                                learning_rate, \n",
        "                                                dropout_keep_probability)\n",
        "        \n",
        "        ######### YOUR CODE HERE #############\n",
        "        \n",
        "        if n_iter % 200 == 0:\n",
        "            print(\"Epoch: [%d/%d], step: [%d/%d], loss: %f\" % (epoch + 1, n_epochs, n_iter + 1, n_step, loss))\n",
        "                \n",
        "    X_sent, Y_sent = next(generate_batches(test_set, batch_size=batch_size))\n",
        "    ######################################\n",
        "    ######### YOUR CODE HERE #############\n",
        "    ######################################\n",
        "    # prepare test data (X_sent and Y_sent) for predicting \n",
        "    # quality and computing value of the loss function\n",
        "    # using function batch_to_ids\n",
        "    X, X_seq_len = batch_to_ids(X_sent, word2id, max_len)\n",
        "    Y, Y_seq_len = batch_to_ids(Y_sent, word2id, max_len)\n",
        "    predictions, loss =  model.predict_for_batch_with_loss(session, \n",
        "                                                X, \n",
        "                                                X_seq_len, \n",
        "                                                Y, \n",
        "                                                Y_seq_len) \n",
        "\n",
        "    ######### YOUR CODE HERE #############\n",
        "    print('Test: epoch', epoch + 1, 'loss:', loss,)\n",
        "    for x, y, p  in list(zip(X, Y, predictions))[:3]:\n",
        "        print('X:',''.join(ids_to_sentence(x, id2word)))\n",
        "        print('Y:',''.join(ids_to_sentence(y, id2word)))\n",
        "        print('O:',''.join(ids_to_sentence(p, id2word)))\n",
        "        print('')\n",
        "\n",
        "    model_predictions = []\n",
        "    ground_truth = []\n",
        "    invalid_number_prediction_count = 0\n",
        "    # For the whole test set calculate ground-truth values (as integer numbers)\n",
        "    # and prediction values (also as integers) to calculate metrics.\n",
        "    # If generated by model number is not correct (e.g. '1-1'), \n",
        "    # increase invalid_number_prediction_count and don't append this and corresponding\n",
        "    # ground-truth value to the arrays.\n",
        "    for X_batch, Y_batch in generate_batches(test_set, batch_size=batch_size):\n",
        "      X, X_seq_len = batch_to_ids(X_batch, word2id, max_len)\n",
        "      Y, Y_seq_len = batch_to_ids(Y_batch, word2id, max_len)\n",
        "      predictions, loss = model.predict_for_batch_with_loss(session, X, X_seq_len, Y, Y_seq_len) \n",
        "      for  y, p  in list(zip( Y, predictions)):\n",
        "        try:\n",
        "          truth_val = eval(''.join(ids_to_sentence(y, id2word)).split('$')[0])\n",
        "          p_val = eval(''.join(ids_to_sentence(p, id2word)).split('$')[0])\n",
        "          model_predictions.append(p_val)\n",
        "          ground_truth.append(truth_val)\n",
        "        except:\n",
        "          invalid_number_prediction_count += 1\n",
        "            \n",
        "        ######################################\n",
        "        ######### YOUR CODE HERE #############\n",
        "        ######################################\n",
        "    \n",
        "    all_model_predictions.append(model_predictions)\n",
        "    all_ground_truth.append(ground_truth)\n",
        "    invalid_number_prediction_counts.append(invalid_number_prediction_count)\n",
        "            \n",
        "print('\\n...training finished.')"
      ],
      "execution_count": 0,
      "outputs": [
        {
          "output_type": "stream",
          "text": [
            "Experiment with learning rate of 0.003... \n",
            "\n",
            "Start training... \n",
            "\n",
            "Train: epoch 1\n",
            "Epoch: [1/10], step: [1/625], loss: 2.713313\n",
            "Epoch: [1/10], step: [201/625], loss: 1.754366\n",
            "Epoch: [1/10], step: [401/625], loss: 1.512199\n",
            "Epoch: [1/10], step: [601/625], loss: 1.505644\n",
            "Test: epoch 1 loss: 1.4408977\n",
            "X: 6664-3452$\n",
            "Y: 3212$#\n",
            "O: 4577$#\n",
            "\n",
            "X: 3651+7925$\n",
            "Y: 11576$\n",
            "O: 12077$\n",
            "\n",
            "X: 4371-2192$\n",
            "Y: 2179$#\n",
            "O: 3007$#\n",
            "\n",
            "Train: epoch 2\n",
            "Epoch: [2/10], step: [1/625], loss: 1.535566\n",
            "Epoch: [2/10], step: [201/625], loss: 1.404438\n",
            "Epoch: [2/10], step: [401/625], loss: 1.375585\n",
            "Epoch: [2/10], step: [601/625], loss: 1.390379\n",
            "Test: epoch 2 loss: 1.3202025\n",
            "X: 4014-9653$\n",
            "Y: -5639$\n",
            "O: -5490$\n",
            "\n",
            "X: 8486-1957$\n",
            "Y: 6529$#\n",
            "O: 6600$#\n",
            "\n",
            "X: 5699+6586$\n",
            "Y: 12285$\n",
            "O: 12440$\n",
            "\n",
            "Train: epoch 3\n",
            "Epoch: [3/10], step: [1/625], loss: 1.306578\n",
            "Epoch: [3/10], step: [201/625], loss: 1.327416\n",
            "Epoch: [3/10], step: [401/625], loss: 1.281631\n",
            "Epoch: [3/10], step: [601/625], loss: 1.264262\n",
            "Test: epoch 3 loss: 1.2413659\n",
            "X: 4886-8196$\n",
            "Y: -3310$\n",
            "O: -3414$\n",
            "\n",
            "X: 6956-1928$\n",
            "Y: 5028$#\n",
            "O: 4999$#\n",
            "\n",
            "X: 2995-6401$\n",
            "Y: -3406$\n",
            "O: -3141$\n",
            "\n",
            "Train: epoch 4\n",
            "Epoch: [4/10], step: [1/625], loss: 1.252442\n",
            "Epoch: [4/10], step: [201/625], loss: 1.263081\n",
            "Epoch: [4/10], step: [401/625], loss: 1.150666\n",
            "Epoch: [4/10], step: [601/625], loss: 1.113691\n",
            "Test: epoch 4 loss: 1.0374328\n",
            "X: 5311-2021$\n",
            "Y: 3290$#\n",
            "O: 3301$#\n",
            "\n",
            "X: 2214-1604$\n",
            "Y: 610$##\n",
            "O: 544$##\n",
            "\n",
            "X: 2510-5555$\n",
            "Y: -3045$\n",
            "O: -2964$\n",
            "\n",
            "Train: epoch 5\n",
            "Epoch: [5/10], step: [1/625], loss: 1.086982\n",
            "Epoch: [5/10], step: [201/625], loss: 1.026349\n",
            "Epoch: [5/10], step: [401/625], loss: 1.042180\n",
            "Epoch: [5/10], step: [601/625], loss: 1.035958\n",
            "Test: epoch 5 loss: 1.0082293\n",
            "X: 4177+2497$\n",
            "Y: 6674$#\n",
            "O: 6640$#\n",
            "\n",
            "X: 6767-6385$\n",
            "Y: 382$##\n",
            "O: 389$##\n",
            "\n",
            "X: 7594+851$#\n",
            "Y: 8445$#\n",
            "O: 8480$#\n",
            "\n",
            "Train: epoch 6\n",
            "Epoch: [6/10], step: [1/625], loss: 1.025672\n",
            "Epoch: [6/10], step: [201/625], loss: 0.971816\n",
            "Epoch: [6/10], step: [401/625], loss: 1.041250\n",
            "Epoch: [6/10], step: [601/625], loss: 0.988558\n",
            "Test: epoch 6 loss: 0.9422387\n",
            "X: 598+323$##\n",
            "Y: 921$##\n",
            "O: 1000$#\n",
            "\n",
            "X: 4093-4974$\n",
            "Y: -881$#\n",
            "O: -876$#\n",
            "\n",
            "X: 5408-4399$\n",
            "Y: 1009$#\n",
            "O: 1003$#\n",
            "\n",
            "Train: epoch 7\n",
            "Epoch: [7/10], step: [1/625], loss: 0.995903\n",
            "Epoch: [7/10], step: [201/625], loss: 0.961740\n",
            "Epoch: [7/10], step: [401/625], loss: 0.970573\n",
            "Epoch: [7/10], step: [601/625], loss: 0.966065\n",
            "Test: epoch 7 loss: 0.91933054\n",
            "X: 407+853$##\n",
            "Y: 1260$#\n",
            "O: 1333$#\n",
            "\n",
            "X: 8117+8036$\n",
            "Y: 16153$\n",
            "O: 16133$\n",
            "\n",
            "X: 2948+9505$\n",
            "Y: 12453$\n",
            "O: 12469$\n",
            "\n",
            "Train: epoch 8\n",
            "Epoch: [8/10], step: [1/625], loss: 0.965116\n",
            "Epoch: [8/10], step: [201/625], loss: 0.948452\n",
            "Epoch: [8/10], step: [401/625], loss: 0.904059\n",
            "Epoch: [8/10], step: [601/625], loss: 0.939969\n",
            "Test: epoch 8 loss: 0.93954074\n",
            "X: 1163-660$#\n",
            "Y: 503$##\n",
            "O: 530$##\n",
            "\n",
            "X: 8041-1855$\n",
            "Y: 6186$#\n",
            "O: 6193$#\n",
            "\n",
            "X: 8133-197$#\n",
            "Y: 7936$#\n",
            "O: 7904$#\n",
            "\n",
            "Train: epoch 9\n",
            "Epoch: [9/10], step: [1/625], loss: 0.931272\n",
            "Epoch: [9/10], step: [201/625], loss: 0.945093\n",
            "Epoch: [9/10], step: [401/625], loss: 0.927914\n",
            "Epoch: [9/10], step: [601/625], loss: 0.936718\n",
            "Test: epoch 9 loss: 0.8944787\n",
            "X: 2091-2715$\n",
            "Y: -624$#\n",
            "O: -609$#\n",
            "\n",
            "X: 8550-4122$\n",
            "Y: 4428$#\n",
            "O: 4429$#\n",
            "\n",
            "X: 5573-4891$\n",
            "Y: 682$##\n",
            "O: 669$##\n",
            "\n",
            "Train: epoch 10\n",
            "Epoch: [10/10], step: [1/625], loss: 0.890293\n",
            "Epoch: [10/10], step: [201/625], loss: 0.924168\n",
            "Epoch: [10/10], step: [401/625], loss: 0.918402\n",
            "Epoch: [10/10], step: [601/625], loss: 0.910836\n",
            "Test: epoch 10 loss: 0.88152516\n",
            "X: 4740+5009$\n",
            "Y: 9749$#\n",
            "O: 9788$#\n",
            "\n",
            "X: 8739+5794$\n",
            "Y: 14533$\n",
            "O: 14538$\n",
            "\n",
            "X: 3197+466$#\n",
            "Y: 3663$#\n",
            "O: 3644$#\n",
            "\n",
            "\n",
            "...training finished.\n"
          ],
          "name": "stdout"
        }
      ]
    },
    {
      "cell_type": "code",
      "metadata": {
        "id": "DAkGmr_uOyJl",
        "colab_type": "code",
        "outputId": "b21ae821-f790-4a5a-f0c7-85dd1da99c7b",
        "colab": {
          "base_uri": "https://localhost:8080/",
          "height": 6081
        }
      },
      "source": [
        "tf.reset_default_graph()\n",
        "\n",
        "model = Seq2SeqModel(vocab_size=len(word2id), \n",
        "                     embeddings_size=20, \n",
        "                     hidden_size=512, \n",
        "                     max_iter=7, \n",
        "                     start_symbol_id=word2id[start_symbol], \n",
        "                     end_symbol_id=word2id[end_symbol], \n",
        "                     padding_symbol_id=word2id[padding_symbol])\n",
        "\n",
        "batch_size = 64\n",
        "n_epochs = 15\n",
        "learning_rate = 0.001\n",
        "dropout_keep_probability = 0.5\n",
        "max_len = 20\n",
        "\n",
        "n_step = int(len(train_set) / batch_size)\n",
        "\n",
        "\n",
        "session = tf.Session()\n",
        "session.run(tf.global_variables_initializer())\n",
        "            \n",
        "invalid_number_prediction_counts = []\n",
        "all_model_predictions = []\n",
        "all_ground_truth = []\n",
        "\n",
        "print('Experiment with batch size of 64 and increased epoch count 15... \\n')\n",
        "print('Start training... \\n')\n",
        "for epoch in range(n_epochs):  \n",
        "    random.shuffle(train_set)\n",
        "    random.shuffle(test_set)\n",
        "    \n",
        "    print('Train: epoch', epoch + 1)\n",
        "    for n_iter, (X_batch, Y_batch) in enumerate(generate_batches(train_set, batch_size=batch_size)):\n",
        "        ######################################\n",
        "        ######### YOUR CODE HERE #############\n",
        "        ######################################\n",
        "        # prepare the data (X_batch and Y_batch) for training\n",
        "        # using function batch_to_ids\n",
        "        X, X_seq_len = batch_to_ids(X_batch, word2id, max_len)\n",
        "        Y, Y_seq_len = batch_to_ids(Y_batch, word2id, max_len)\n",
        "        predictions, loss = model.train_on_batch(session, \n",
        "                                                X, \n",
        "                                                X_seq_len, \n",
        "                                                Y, \n",
        "                                                Y_seq_len, \n",
        "                                                learning_rate, \n",
        "                                                dropout_keep_probability)\n",
        "        \n",
        "        ######### YOUR CODE HERE #############\n",
        "        \n",
        "        if n_iter % 200 == 0:\n",
        "            print(\"Epoch: [%d/%d], step: [%d/%d], loss: %f\" % (epoch + 1, n_epochs, n_iter + 1, n_step, loss))\n",
        "                \n",
        "    X_sent, Y_sent = next(generate_batches(test_set, batch_size=batch_size))\n",
        "    ######################################\n",
        "    ######### YOUR CODE HERE #############\n",
        "    ######################################\n",
        "    # prepare test data (X_sent and Y_sent) for predicting \n",
        "    # quality and computing value of the loss function\n",
        "    # using function batch_to_ids\n",
        "    X, X_seq_len = batch_to_ids(X_sent, word2id, max_len)\n",
        "    Y, Y_seq_len = batch_to_ids(Y_sent, word2id, max_len)\n",
        "    predictions, loss =  model.predict_for_batch_with_loss(session, \n",
        "                                                X, \n",
        "                                                X_seq_len, \n",
        "                                                Y, \n",
        "                                                Y_seq_len) \n",
        "\n",
        "    ######### YOUR CODE HERE #############\n",
        "    print('Test: epoch', epoch + 1, 'loss:', loss,)\n",
        "    for x, y, p  in list(zip(X, Y, predictions))[:3]:\n",
        "        print('X:',''.join(ids_to_sentence(x, id2word)))\n",
        "        print('Y:',''.join(ids_to_sentence(y, id2word)))\n",
        "        print('O:',''.join(ids_to_sentence(p, id2word)))\n",
        "        print('')\n",
        "\n",
        "    model_predictions = []\n",
        "    ground_truth = []\n",
        "    invalid_number_prediction_count = 0\n",
        "    # For the whole test set calculate ground-truth values (as integer numbers)\n",
        "    # and prediction values (also as integers) to calculate metrics.\n",
        "    # If generated by model number is not correct (e.g. '1-1'), \n",
        "    # increase invalid_number_prediction_count and don't append this and corresponding\n",
        "    # ground-truth value to the arrays.\n",
        "    for X_batch, Y_batch in generate_batches(test_set, batch_size=batch_size):\n",
        "      X, X_seq_len = batch_to_ids(X_batch, word2id, max_len)\n",
        "      Y, Y_seq_len = batch_to_ids(Y_batch, word2id, max_len)\n",
        "      predictions, loss = model.predict_for_batch_with_loss(session, X, X_seq_len, Y, Y_seq_len) \n",
        "      for  y, p  in list(zip( Y, predictions)):\n",
        "        try:\n",
        "          truth_val = eval(''.join(ids_to_sentence(y, id2word)).split('$')[0])\n",
        "          p_val = eval(''.join(ids_to_sentence(p, id2word)).split('$')[0])\n",
        "          model_predictions.append(p_val)\n",
        "          ground_truth.append(truth_val)\n",
        "        except:\n",
        "          invalid_number_prediction_count += 1\n",
        "            \n",
        "        ######################################\n",
        "        ######### YOUR CODE HERE #############\n",
        "        ######################################\n",
        "    \n",
        "    all_model_predictions.append(model_predictions)\n",
        "    all_ground_truth.append(ground_truth)\n",
        "    invalid_number_prediction_counts.append(invalid_number_prediction_count)\n",
        "            \n",
        "print('\\n...training finished.')"
      ],
      "execution_count": 0,
      "outputs": [
        {
          "output_type": "stream",
          "text": [
            "WARNING: Logging before flag parsing goes to stderr.\n",
            "W0622 17:57:51.489046 140389289248640 lazy_loader.py:50] \n",
            "The TensorFlow contrib module will not be included in TensorFlow 2.0.\n",
            "For more information, please see:\n",
            "  * https://github.com/tensorflow/community/blob/master/rfcs/20180907-contrib-sunset.md\n",
            "  * https://github.com/tensorflow/addons\n",
            "  * https://github.com/tensorflow/io (for I/O related ops)\n",
            "If you depend on functionality not listed there, please file an issue.\n",
            "\n",
            "W0622 17:57:51.491095 140389289248640 deprecation.py:323] From <ipython-input-23-a8bb5ad5626c>:5: GRUCell.__init__ (from tensorflow.python.ops.rnn_cell_impl) is deprecated and will be removed in a future version.\n",
            "Instructions for updating:\n",
            "This class is equivalent as tf.keras.layers.GRUCell, and will be replaced by that in Tensorflow 2.0.\n",
            "W0622 17:57:51.501777 140389289248640 deprecation.py:323] From <ipython-input-23-a8bb5ad5626c>:9: dynamic_rnn (from tensorflow.python.ops.rnn) is deprecated and will be removed in a future version.\n",
            "Instructions for updating:\n",
            "Please use `keras.layers.RNN(cell)`, which is equivalent to this API\n",
            "W0622 17:57:51.663764 140389289248640 deprecation.py:506] From /usr/local/lib/python3.6/dist-packages/tensorflow/python/ops/init_ops.py:1251: calling VarianceScaling.__init__ (from tensorflow.python.ops.init_ops) with dtype is deprecated and will be removed in a future version.\n",
            "Instructions for updating:\n",
            "Call initializer instance with the dtype argument instead of passing it to the constructor\n",
            "W0622 17:57:51.680682 140389289248640 deprecation.py:506] From /usr/local/lib/python3.6/dist-packages/tensorflow/python/ops/rnn_cell_impl.py:564: calling Constant.__init__ (from tensorflow.python.ops.init_ops) with dtype is deprecated and will be removed in a future version.\n",
            "Instructions for updating:\n",
            "Call initializer instance with the dtype argument instead of passing it to the constructor\n",
            "W0622 17:57:51.922658 140389289248640 deprecation.py:506] From /usr/local/lib/python3.6/dist-packages/tensorflow/python/ops/rnn_cell_impl.py:574: calling Zeros.__init__ (from tensorflow.python.ops.init_ops) with dtype is deprecated and will be removed in a future version.\n",
            "Instructions for updating:\n",
            "Call initializer instance with the dtype argument instead of passing it to the constructor\n",
            "W0622 17:57:52.159734 140389289248640 deprecation.py:323] From /usr/local/lib/python3.6/dist-packages/tensorflow/python/ops/rnn.py:244: add_dispatch_support.<locals>.wrapper (from tensorflow.python.ops.array_ops) is deprecated and will be removed in a future version.\n",
            "Instructions for updating:\n",
            "Use tf.where in 2.0, which has the same broadcast rule as np.where\n"
          ],
          "name": "stderr"
        },
        {
          "output_type": "stream",
          "text": [
            "Experiment with batch size of 64 and increased epoch count 15... \n",
            "\n",
            "Start training... \n",
            "\n",
            "Train: epoch 1\n",
            "Epoch: [1/15], step: [1/1250], loss: 2.724388\n",
            "Epoch: [1/15], step: [201/1250], loss: 1.828067\n",
            "Epoch: [1/15], step: [401/1250], loss: 1.764561\n",
            "Epoch: [1/15], step: [601/1250], loss: 1.719255\n",
            "Epoch: [1/15], step: [801/1250], loss: 1.660803\n",
            "Epoch: [1/15], step: [1001/1250], loss: 1.582621\n",
            "Epoch: [1/15], step: [1201/1250], loss: 1.576851\n",
            "Test: epoch 1 loss: 1.5018868\n",
            "X: 5298+9775$\n",
            "Y: 15073$\n",
            "O: 14666$\n",
            "\n",
            "X: 7000+1426$\n",
            "Y: 8426$#\n",
            "O: 9033$#\n",
            "\n",
            "X: 1004+6211$\n",
            "Y: 7215$#\n",
            "O: 7033$#\n",
            "\n",
            "Train: epoch 2\n",
            "Epoch: [2/15], step: [1/1250], loss: 1.564228\n",
            "Epoch: [2/15], step: [201/1250], loss: 1.477532\n",
            "Epoch: [2/15], step: [401/1250], loss: 1.505413\n",
            "Epoch: [2/15], step: [601/1250], loss: 1.472602\n",
            "Epoch: [2/15], step: [801/1250], loss: 1.451030\n",
            "Epoch: [2/15], step: [1001/1250], loss: 1.422032\n",
            "Epoch: [2/15], step: [1201/1250], loss: 1.416364\n",
            "Test: epoch 2 loss: 1.3617499\n",
            "X: 8097-8994$\n",
            "Y: -897$#\n",
            "O: -1114$\n",
            "\n",
            "X: 6788+2978$\n",
            "Y: 9766$#\n",
            "O: 9804$#\n",
            "\n",
            "X: 3327-5240$\n",
            "Y: -1913$\n",
            "O: -1188$\n",
            "\n",
            "Train: epoch 3\n",
            "Epoch: [3/15], step: [1/1250], loss: 1.400106\n",
            "Epoch: [3/15], step: [201/1250], loss: 1.411838\n",
            "Epoch: [3/15], step: [401/1250], loss: 1.376151\n",
            "Epoch: [3/15], step: [601/1250], loss: 1.359031\n",
            "Epoch: [3/15], step: [801/1250], loss: 1.343815\n",
            "Epoch: [3/15], step: [1001/1250], loss: 1.388848\n",
            "Epoch: [3/15], step: [1201/1250], loss: 1.347684\n",
            "Test: epoch 3 loss: 1.3061974\n",
            "X: 6631-2761$\n",
            "Y: 3870$#\n",
            "O: 3955$#\n",
            "\n",
            "X: 9443-403$#\n",
            "Y: 9040$#\n",
            "O: 9122$#\n",
            "\n",
            "X: 2821+7489$\n",
            "Y: 10310$\n",
            "O: 10172$\n",
            "\n",
            "Train: epoch 4\n",
            "Epoch: [4/15], step: [1/1250], loss: 1.358368\n",
            "Epoch: [4/15], step: [201/1250], loss: 1.349551\n",
            "Epoch: [4/15], step: [401/1250], loss: 1.272467\n",
            "Epoch: [4/15], step: [601/1250], loss: 1.338313\n",
            "Epoch: [4/15], step: [801/1250], loss: 1.283885\n",
            "Epoch: [4/15], step: [1001/1250], loss: 1.247000\n",
            "Epoch: [4/15], step: [1201/1250], loss: 1.241096\n",
            "Test: epoch 4 loss: 1.2158166\n",
            "X: 800+5289$#\n",
            "Y: 6089$#\n",
            "O: 6123$#\n",
            "\n",
            "X: 4856+4146$\n",
            "Y: 9002$#\n",
            "O: 8793$#\n",
            "\n",
            "X: 2634-1954$\n",
            "Y: 680$##\n",
            "O: 1000$#\n",
            "\n",
            "Train: epoch 5\n",
            "Epoch: [5/15], step: [1/1250], loss: 1.281554\n",
            "Epoch: [5/15], step: [201/1250], loss: 1.254372\n",
            "Epoch: [5/15], step: [401/1250], loss: 1.267372\n",
            "Epoch: [5/15], step: [601/1250], loss: 1.228091\n",
            "Epoch: [5/15], step: [801/1250], loss: 1.249821\n",
            "Epoch: [5/15], step: [1001/1250], loss: 1.228768\n",
            "Epoch: [5/15], step: [1201/1250], loss: 1.165271\n",
            "Test: epoch 5 loss: 1.1275972\n",
            "X: 4198-3972$\n",
            "Y: 226$##\n",
            "O: 499$##\n",
            "\n",
            "X: 8662-7840$\n",
            "Y: 822$##\n",
            "O: 900$##\n",
            "\n",
            "X: 8303-4897$\n",
            "Y: 3406$#\n",
            "O: 3439$#\n",
            "\n",
            "Train: epoch 6\n",
            "Epoch: [6/15], step: [1/1250], loss: 1.219654\n",
            "Epoch: [6/15], step: [201/1250], loss: 1.159889\n",
            "Epoch: [6/15], step: [401/1250], loss: 1.110292\n",
            "Epoch: [6/15], step: [601/1250], loss: 1.112879\n",
            "Epoch: [6/15], step: [801/1250], loss: 1.132256\n",
            "Epoch: [6/15], step: [1001/1250], loss: 1.075420\n",
            "Epoch: [6/15], step: [1201/1250], loss: 1.018743\n",
            "Test: epoch 6 loss: 1.0018467\n",
            "X: 8891-8116$\n",
            "Y: 775$##\n",
            "O: 716$##\n",
            "\n",
            "X: 4758+6055$\n",
            "Y: 10813$\n",
            "O: 10828$\n",
            "\n",
            "X: 4260+3113$\n",
            "Y: 7373$#\n",
            "O: 7398$#\n",
            "\n",
            "Train: epoch 7\n",
            "Epoch: [7/15], step: [1/1250], loss: 0.967609\n",
            "Epoch: [7/15], step: [201/1250], loss: 1.041006\n",
            "Epoch: [7/15], step: [401/1250], loss: 1.061303\n",
            "Epoch: [7/15], step: [601/1250], loss: 1.026150\n",
            "Epoch: [7/15], step: [801/1250], loss: 1.054371\n",
            "Epoch: [7/15], step: [1001/1250], loss: 0.968087\n",
            "Epoch: [7/15], step: [1201/1250], loss: 0.950705\n",
            "Test: epoch 7 loss: 0.94807756\n",
            "X: 8840-3754$\n",
            "Y: 5086$#\n",
            "O: 5105$#\n",
            "\n",
            "X: 6265+4239$\n",
            "Y: 10504$\n",
            "O: 10512$\n",
            "\n",
            "X: 3647+9159$\n",
            "Y: 12806$\n",
            "O: 12845$\n",
            "\n",
            "Train: epoch 8\n",
            "Epoch: [8/15], step: [1/1250], loss: 1.007676\n",
            "Epoch: [8/15], step: [201/1250], loss: 0.961092\n",
            "Epoch: [8/15], step: [401/1250], loss: 1.044524\n",
            "Epoch: [8/15], step: [601/1250], loss: 0.966235\n",
            "Epoch: [8/15], step: [801/1250], loss: 1.015947\n",
            "Epoch: [8/15], step: [1001/1250], loss: 0.987684\n",
            "Epoch: [8/15], step: [1201/1250], loss: 0.985773\n",
            "Test: epoch 8 loss: 0.9201345\n",
            "X: 4764+8146$\n",
            "Y: 12910$\n",
            "O: 12899$\n",
            "\n",
            "X: 8860-8942$\n",
            "Y: -82$##\n",
            "O: -14$##\n",
            "\n",
            "X: 4554+3352$\n",
            "Y: 7906$#\n",
            "O: 7919$#\n",
            "\n",
            "Train: epoch 9\n",
            "Epoch: [9/15], step: [1/1250], loss: 0.934430\n",
            "Epoch: [9/15], step: [201/1250], loss: 0.937469\n",
            "Epoch: [9/15], step: [401/1250], loss: 0.955834\n",
            "Epoch: [9/15], step: [601/1250], loss: 0.986570\n",
            "Epoch: [9/15], step: [801/1250], loss: 0.918991\n",
            "Epoch: [9/15], step: [1001/1250], loss: 0.950522\n",
            "Epoch: [9/15], step: [1201/1250], loss: 0.930440\n",
            "Test: epoch 9 loss: 0.883945\n",
            "X: 397-9650$#\n",
            "Y: -9253$\n",
            "O: -9231$\n",
            "\n",
            "X: 9703+5806$\n",
            "Y: 15509$\n",
            "O: 15484$\n",
            "\n",
            "X: 7416-7257$\n",
            "Y: 159$##\n",
            "O: 131$##\n",
            "\n",
            "Train: epoch 10\n",
            "Epoch: [10/15], step: [1/1250], loss: 0.883605\n",
            "Epoch: [10/15], step: [201/1250], loss: 0.921825\n",
            "Epoch: [10/15], step: [401/1250], loss: 0.888371\n",
            "Epoch: [10/15], step: [601/1250], loss: 0.889791\n",
            "Epoch: [10/15], step: [801/1250], loss: 0.891969\n",
            "Epoch: [10/15], step: [1001/1250], loss: 0.896437\n",
            "Epoch: [10/15], step: [1201/1250], loss: 0.842510\n",
            "Test: epoch 10 loss: 0.88833594\n",
            "X: 650+6779$#\n",
            "Y: 7429$#\n",
            "O: 7459$#\n",
            "\n",
            "X: 4084+3256$\n",
            "Y: 7340$#\n",
            "O: 7389$#\n",
            "\n",
            "X: 9884+1530$\n",
            "Y: 11414$\n",
            "O: 11410$\n",
            "\n",
            "Train: epoch 11\n",
            "Epoch: [11/15], step: [1/1250], loss: 0.866700\n",
            "Epoch: [11/15], step: [201/1250], loss: 0.867522\n",
            "Epoch: [11/15], step: [401/1250], loss: 0.875704\n",
            "Epoch: [11/15], step: [601/1250], loss: 0.908611\n",
            "Epoch: [11/15], step: [801/1250], loss: 0.886668\n",
            "Epoch: [11/15], step: [1001/1250], loss: 0.892010\n",
            "Epoch: [11/15], step: [1201/1250], loss: 0.848864\n",
            "Test: epoch 11 loss: 0.8246578\n",
            "X: 7731-2105$\n",
            "Y: 5626$#\n",
            "O: 5608$#\n",
            "\n",
            "X: 4327-5914$\n",
            "Y: -1587$\n",
            "O: -1600$\n",
            "\n",
            "X: 6905-9107$\n",
            "Y: -2202$\n",
            "O: -2218$\n",
            "\n",
            "Train: epoch 12\n",
            "Epoch: [12/15], step: [1/1250], loss: 0.847968\n",
            "Epoch: [12/15], step: [201/1250], loss: 0.936953\n",
            "Epoch: [12/15], step: [401/1250], loss: 0.870353\n",
            "Epoch: [12/15], step: [601/1250], loss: 0.885546\n",
            "Epoch: [12/15], step: [801/1250], loss: 0.834707\n",
            "Epoch: [12/15], step: [1001/1250], loss: 0.818673\n",
            "Epoch: [12/15], step: [1201/1250], loss: 0.798387\n",
            "Test: epoch 12 loss: 0.8100317\n",
            "X: 6808-2091$\n",
            "Y: 4717$#\n",
            "O: 4700$#\n",
            "\n",
            "X: 3920+3728$\n",
            "Y: 7648$#\n",
            "O: 7640$#\n",
            "\n",
            "X: 9753-1107$\n",
            "Y: 8646$#\n",
            "O: 8638$#\n",
            "\n",
            "Train: epoch 13\n",
            "Epoch: [13/15], step: [1/1250], loss: 0.829762\n",
            "Epoch: [13/15], step: [201/1250], loss: 0.782013\n",
            "Epoch: [13/15], step: [401/1250], loss: 0.795825\n",
            "Epoch: [13/15], step: [601/1250], loss: 0.778249\n",
            "Epoch: [13/15], step: [801/1250], loss: 0.796824\n",
            "Epoch: [13/15], step: [1001/1250], loss: 0.814211\n",
            "Epoch: [13/15], step: [1201/1250], loss: 0.790134\n",
            "Test: epoch 13 loss: 0.7559073\n",
            "X: 4505+6863$\n",
            "Y: 11368$\n",
            "O: 11371$\n",
            "\n",
            "X: 481+5891$#\n",
            "Y: 6372$#\n",
            "O: 6451$#\n",
            "\n",
            "X: 4667+5740$\n",
            "Y: 10407$\n",
            "O: 10399$\n",
            "\n",
            "Train: epoch 14\n",
            "Epoch: [14/15], step: [1/1250], loss: 0.781091\n",
            "Epoch: [14/15], step: [201/1250], loss: 0.764307\n",
            "Epoch: [14/15], step: [401/1250], loss: 0.767382\n",
            "Epoch: [14/15], step: [601/1250], loss: 0.770366\n",
            "Epoch: [14/15], step: [801/1250], loss: 0.767415\n",
            "Epoch: [14/15], step: [1001/1250], loss: 0.742510\n",
            "Epoch: [14/15], step: [1201/1250], loss: 0.738964\n",
            "Test: epoch 14 loss: 0.6964541\n",
            "X: 6951+7895$\n",
            "Y: 14846$\n",
            "O: 14833$\n",
            "\n",
            "X: 9874-8682$\n",
            "Y: 1192$#\n",
            "O: 1189$#\n",
            "\n",
            "X: 9056-4666$\n",
            "Y: 4390$#\n",
            "O: 4383$#\n",
            "\n",
            "Train: epoch 15\n",
            "Epoch: [15/15], step: [1/1250], loss: 0.622261\n",
            "Epoch: [15/15], step: [201/1250], loss: 0.699211\n",
            "Epoch: [15/15], step: [401/1250], loss: 0.682673\n",
            "Epoch: [15/15], step: [601/1250], loss: 0.685616\n",
            "Epoch: [15/15], step: [801/1250], loss: 0.662956\n",
            "Epoch: [15/15], step: [1001/1250], loss: 0.706096\n",
            "Epoch: [15/15], step: [1201/1250], loss: 0.699473\n",
            "Test: epoch 15 loss: 0.607768\n",
            "X: 9362-2505$\n",
            "Y: 6857$#\n",
            "O: 6844$#\n",
            "\n",
            "X: 6940+2226$\n",
            "Y: 9166$#\n",
            "O: 9164$#\n",
            "\n",
            "X: 9792-3234$\n",
            "Y: 6558$#\n",
            "O: 6553$#\n",
            "\n",
            "\n",
            "...training finished.\n"
          ],
          "name": "stdout"
        }
      ]
    },
    {
      "cell_type": "markdown",
      "metadata": {
        "id": "Yc6snqNsnYgL",
        "colab_type": "text"
      },
      "source": [
        "## Evaluate results\n",
        "\n",
        "Because our task is simple and the output is straight-forward, we will use [MAE](https://en.wikipedia.org/wiki/Mean_absolute_error) metric to evaluate the trained model during the epochs. Compute the value of the metric for the output from each epoch."
      ]
    },
    {
      "cell_type": "code",
      "metadata": {
        "id": "ZEQiMlkInYgN",
        "colab_type": "code",
        "colab": {}
      },
      "source": [
        "from sklearn.metrics import mean_absolute_error"
      ],
      "execution_count": 0,
      "outputs": []
    },
    {
      "cell_type": "code",
      "metadata": {
        "id": "J1tk5ZRKnYgW",
        "colab_type": "code",
        "outputId": "35cb3ac6-cc48-48b2-ece0-ce664552eeb1",
        "colab": {
          "base_uri": "https://localhost:8080/",
          "height": 191
        }
      },
      "source": [
        "for i, (gts, predictions, invalid_number_prediction_count) in enumerate(zip(all_ground_truth,\n",
        "                                                                            all_model_predictions,\n",
        "                                                                            invalid_number_prediction_counts), 1):\n",
        "    mae = mean_absolute_error(gts, predictions)######### YOUR CODE HERE #############\n",
        "    print(\"Epoch: %i, MAE: %f, Invalid numbers: %i\" % (i, mae, invalid_number_prediction_count))"
      ],
      "execution_count": 0,
      "outputs": [
        {
          "output_type": "stream",
          "text": [
            "Epoch: 1, MAE: 872.668300, Invalid numbers: 0\n",
            "Epoch: 2, MAE: 399.350300, Invalid numbers: 0\n",
            "Epoch: 3, MAE: 237.264250, Invalid numbers: 0\n",
            "Epoch: 4, MAE: 201.650050, Invalid numbers: 0\n",
            "Epoch: 5, MAE: 169.917500, Invalid numbers: 0\n",
            "Epoch: 6, MAE: 127.510750, Invalid numbers: 0\n",
            "Epoch: 7, MAE: 72.349400, Invalid numbers: 0\n",
            "Epoch: 8, MAE: 52.940550, Invalid numbers: 0\n",
            "Epoch: 9, MAE: 40.828150, Invalid numbers: 0\n",
            "Epoch: 10, MAE: 37.850500, Invalid numbers: 0\n"
          ],
          "name": "stdout"
        }
      ]
    },
    {
      "cell_type": "code",
      "metadata": {
        "id": "yZPSKXP7IGwR",
        "colab_type": "code",
        "outputId": "6d1ef59a-fcea-42f8-be94-df343a2f25f8",
        "colab": {
          "base_uri": "https://localhost:8080/",
          "height": 364
        }
      },
      "source": [
        "for i, (gts, predictions, invalid_number_prediction_count) in enumerate(zip(all_ground_truth,\n",
        "                                                                            all_model_predictions,\n",
        "                                                                            invalid_number_prediction_counts), 1):\n",
        "    mae = mean_absolute_error(gts, predictions)######### YOUR CODE HERE #############\n",
        "    print(\"With learning rate 0.03\")\n",
        "    print(\"Epoch: %i, MAE: %f, Invalid numbers: %i\" % (i, mae, invalid_number_prediction_count))"
      ],
      "execution_count": 0,
      "outputs": [
        {
          "output_type": "stream",
          "text": [
            "With learning rate 0.03\n",
            "Epoch: 1, MAE: 441.340800, Invalid numbers: 0\n",
            "With learning rate 0.03\n",
            "Epoch: 2, MAE: 203.801950, Invalid numbers: 0\n",
            "With learning rate 0.03\n",
            "Epoch: 3, MAE: 134.189500, Invalid numbers: 0\n",
            "With learning rate 0.03\n",
            "Epoch: 4, MAE: 58.007500, Invalid numbers: 0\n",
            "With learning rate 0.03\n",
            "Epoch: 5, MAE: 46.345550, Invalid numbers: 0\n",
            "With learning rate 0.03\n",
            "Epoch: 6, MAE: 33.643350, Invalid numbers: 0\n",
            "With learning rate 0.03\n",
            "Epoch: 7, MAE: 35.692350, Invalid numbers: 0\n",
            "With learning rate 0.03\n",
            "Epoch: 8, MAE: 26.783150, Invalid numbers: 0\n",
            "With learning rate 0.03\n",
            "Epoch: 9, MAE: 32.196000, Invalid numbers: 0\n",
            "With learning rate 0.03\n",
            "Epoch: 10, MAE: 25.532450, Invalid numbers: 0\n"
          ],
          "name": "stdout"
        }
      ]
    },
    {
      "cell_type": "code",
      "metadata": {
        "id": "jk303VvMPX-5",
        "colab_type": "code",
        "outputId": "f5f37776-818d-4ca1-b74f-e777fd95994b",
        "colab": {
          "base_uri": "https://localhost:8080/",
          "height": 538
        }
      },
      "source": [
        "for i, (gts, predictions, invalid_number_prediction_count) in enumerate(zip(all_ground_truth,\n",
        "                                                                            all_model_predictions,\n",
        "                                                                            invalid_number_prediction_counts), 1):\n",
        "    mae = mean_absolute_error(gts, predictions)######### YOUR CODE HERE #############\n",
        "    print(\"With batch size 64 and epoch count 15\")\n",
        "    print(\"Epoch: %i, MAE: %f, Invalid numbers: %i\" % (i, mae, invalid_number_prediction_count))"
      ],
      "execution_count": 0,
      "outputs": [
        {
          "output_type": "stream",
          "text": [
            "With batch size 64 and epoch count 15\n",
            "Epoch: 1, MAE: 583.508350, Invalid numbers: 0\n",
            "With batch size 64 and epoch count 15\n",
            "Epoch: 2, MAE: 297.904450, Invalid numbers: 0\n",
            "With batch size 64 and epoch count 15\n",
            "Epoch: 3, MAE: 187.560550, Invalid numbers: 0\n",
            "With batch size 64 and epoch count 15\n",
            "Epoch: 4, MAE: 139.308850, Invalid numbers: 0\n",
            "With batch size 64 and epoch count 15\n",
            "Epoch: 5, MAE: 97.106000, Invalid numbers: 0\n",
            "With batch size 64 and epoch count 15\n",
            "Epoch: 6, MAE: 44.507100, Invalid numbers: 0\n",
            "With batch size 64 and epoch count 15\n",
            "Epoch: 7, MAE: 35.495650, Invalid numbers: 0\n",
            "With batch size 64 and epoch count 15\n",
            "Epoch: 8, MAE: 27.604500, Invalid numbers: 0\n",
            "With batch size 64 and epoch count 15\n",
            "Epoch: 9, MAE: 28.026200, Invalid numbers: 0\n",
            "With batch size 64 and epoch count 15\n",
            "Epoch: 10, MAE: 28.461800, Invalid numbers: 0\n",
            "With batch size 64 and epoch count 15\n",
            "Epoch: 11, MAE: 22.696000, Invalid numbers: 0\n",
            "With batch size 64 and epoch count 15\n",
            "Epoch: 12, MAE: 19.345650, Invalid numbers: 0\n",
            "With batch size 64 and epoch count 15\n",
            "Epoch: 13, MAE: 17.117800, Invalid numbers: 0\n",
            "With batch size 64 and epoch count 15\n",
            "Epoch: 14, MAE: 18.615650, Invalid numbers: 0\n",
            "With batch size 64 and epoch count 15\n",
            "Epoch: 15, MAE: 16.507925, Invalid numbers: 1\n"
          ],
          "name": "stdout"
        }
      ]
    },
    {
      "cell_type": "code",
      "metadata": {
        "id": "TdW6SIjrmEIl",
        "colab_type": "code",
        "colab": {}
      },
      "source": [
        ""
      ],
      "execution_count": 0,
      "outputs": []
    }
  ]
}